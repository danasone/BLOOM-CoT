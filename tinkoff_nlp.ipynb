{
  "metadata": {
    "colab": {
      "provenance": []
    },
    "kernelspec": {
      "name": "python3",
      "display_name": "Python 3",
      "language": "python"
    },
    "language_info": {
      "name": "python",
      "version": "3.7.12",
      "mimetype": "text/x-python",
      "codemirror_mode": {
        "name": "ipython",
        "version": 3
      },
      "pygments_lexer": "ipython3",
      "nbconvert_exporter": "python",
      "file_extension": ".py"
    },
    "gpuClass": "standard",
    "widgets": {
      "application/vnd.jupyter.widget-state+json": {
        "c1ee056e34614e9a9a921bded81756eb": {
          "model_module": "@jupyter-widgets/controls",
          "model_name": "HBoxModel",
          "model_module_version": "1.5.0",
          "state": {
            "_dom_classes": [],
            "_model_module": "@jupyter-widgets/controls",
            "_model_module_version": "1.5.0",
            "_model_name": "HBoxModel",
            "_view_count": null,
            "_view_module": "@jupyter-widgets/controls",
            "_view_module_version": "1.5.0",
            "_view_name": "HBoxView",
            "box_style": "",
            "children": [
              "IPY_MODEL_f449bb3333f94f2a9c448dc4dc5e05b2",
              "IPY_MODEL_2aa7c242b71e4473a2fed1e2a94457ad",
              "IPY_MODEL_a74329632ba74504b1f1eff76aca8a75"
            ],
            "layout": "IPY_MODEL_0f6a55583f4a4e59ac363fabaa87ee65"
          }
        },
        "f449bb3333f94f2a9c448dc4dc5e05b2": {
          "model_module": "@jupyter-widgets/controls",
          "model_name": "HTMLModel",
          "model_module_version": "1.5.0",
          "state": {
            "_dom_classes": [],
            "_model_module": "@jupyter-widgets/controls",
            "_model_module_version": "1.5.0",
            "_model_name": "HTMLModel",
            "_view_count": null,
            "_view_module": "@jupyter-widgets/controls",
            "_view_module_version": "1.5.0",
            "_view_name": "HTMLView",
            "description": "",
            "description_tooltip": null,
            "layout": "IPY_MODEL_fa9e527625764aaf8b0ad49528aeab2f",
            "placeholder": "​",
            "style": "IPY_MODEL_34d496ab943049e4b82297e2fa8962a9",
            "value": "Downloading: 100%"
          }
        },
        "2aa7c242b71e4473a2fed1e2a94457ad": {
          "model_module": "@jupyter-widgets/controls",
          "model_name": "FloatProgressModel",
          "model_module_version": "1.5.0",
          "state": {
            "_dom_classes": [],
            "_model_module": "@jupyter-widgets/controls",
            "_model_module_version": "1.5.0",
            "_model_name": "FloatProgressModel",
            "_view_count": null,
            "_view_module": "@jupyter-widgets/controls",
            "_view_module_version": "1.5.0",
            "_view_name": "ProgressView",
            "bar_style": "success",
            "description": "",
            "description_tooltip": null,
            "layout": "IPY_MODEL_dacd92d16f514dd5812861d7778c19ee",
            "max": 263,
            "min": 0,
            "orientation": "horizontal",
            "style": "IPY_MODEL_c168bc774b73446f8d3364ed14f25353",
            "value": 263
          }
        },
        "a74329632ba74504b1f1eff76aca8a75": {
          "model_module": "@jupyter-widgets/controls",
          "model_name": "HTMLModel",
          "model_module_version": "1.5.0",
          "state": {
            "_dom_classes": [],
            "_model_module": "@jupyter-widgets/controls",
            "_model_module_version": "1.5.0",
            "_model_name": "HTMLModel",
            "_view_count": null,
            "_view_module": "@jupyter-widgets/controls",
            "_view_module_version": "1.5.0",
            "_view_name": "HTMLView",
            "description": "",
            "description_tooltip": null,
            "layout": "IPY_MODEL_3a8e2055e56348f8b681599e16a48393",
            "placeholder": "​",
            "style": "IPY_MODEL_71dbb7e35f5f437e8a4706f2a8140d1e",
            "value": " 263/263 [00:00&lt;00:00, 12.7kB/s]"
          }
        },
        "0f6a55583f4a4e59ac363fabaa87ee65": {
          "model_module": "@jupyter-widgets/base",
          "model_name": "LayoutModel",
          "model_module_version": "1.2.0",
          "state": {
            "_model_module": "@jupyter-widgets/base",
            "_model_module_version": "1.2.0",
            "_model_name": "LayoutModel",
            "_view_count": null,
            "_view_module": "@jupyter-widgets/base",
            "_view_module_version": "1.2.0",
            "_view_name": "LayoutView",
            "align_content": null,
            "align_items": null,
            "align_self": null,
            "border": null,
            "bottom": null,
            "display": null,
            "flex": null,
            "flex_flow": null,
            "grid_area": null,
            "grid_auto_columns": null,
            "grid_auto_flow": null,
            "grid_auto_rows": null,
            "grid_column": null,
            "grid_gap": null,
            "grid_row": null,
            "grid_template_areas": null,
            "grid_template_columns": null,
            "grid_template_rows": null,
            "height": null,
            "justify_content": null,
            "justify_items": null,
            "left": null,
            "margin": null,
            "max_height": null,
            "max_width": null,
            "min_height": null,
            "min_width": null,
            "object_fit": null,
            "object_position": null,
            "order": null,
            "overflow": null,
            "overflow_x": null,
            "overflow_y": null,
            "padding": null,
            "right": null,
            "top": null,
            "visibility": null,
            "width": null
          }
        },
        "fa9e527625764aaf8b0ad49528aeab2f": {
          "model_module": "@jupyter-widgets/base",
          "model_name": "LayoutModel",
          "model_module_version": "1.2.0",
          "state": {
            "_model_module": "@jupyter-widgets/base",
            "_model_module_version": "1.2.0",
            "_model_name": "LayoutModel",
            "_view_count": null,
            "_view_module": "@jupyter-widgets/base",
            "_view_module_version": "1.2.0",
            "_view_name": "LayoutView",
            "align_content": null,
            "align_items": null,
            "align_self": null,
            "border": null,
            "bottom": null,
            "display": null,
            "flex": null,
            "flex_flow": null,
            "grid_area": null,
            "grid_auto_columns": null,
            "grid_auto_flow": null,
            "grid_auto_rows": null,
            "grid_column": null,
            "grid_gap": null,
            "grid_row": null,
            "grid_template_areas": null,
            "grid_template_columns": null,
            "grid_template_rows": null,
            "height": null,
            "justify_content": null,
            "justify_items": null,
            "left": null,
            "margin": null,
            "max_height": null,
            "max_width": null,
            "min_height": null,
            "min_width": null,
            "object_fit": null,
            "object_position": null,
            "order": null,
            "overflow": null,
            "overflow_x": null,
            "overflow_y": null,
            "padding": null,
            "right": null,
            "top": null,
            "visibility": null,
            "width": null
          }
        },
        "34d496ab943049e4b82297e2fa8962a9": {
          "model_module": "@jupyter-widgets/controls",
          "model_name": "DescriptionStyleModel",
          "model_module_version": "1.5.0",
          "state": {
            "_model_module": "@jupyter-widgets/controls",
            "_model_module_version": "1.5.0",
            "_model_name": "DescriptionStyleModel",
            "_view_count": null,
            "_view_module": "@jupyter-widgets/base",
            "_view_module_version": "1.2.0",
            "_view_name": "StyleView",
            "description_width": ""
          }
        },
        "dacd92d16f514dd5812861d7778c19ee": {
          "model_module": "@jupyter-widgets/base",
          "model_name": "LayoutModel",
          "model_module_version": "1.2.0",
          "state": {
            "_model_module": "@jupyter-widgets/base",
            "_model_module_version": "1.2.0",
            "_model_name": "LayoutModel",
            "_view_count": null,
            "_view_module": "@jupyter-widgets/base",
            "_view_module_version": "1.2.0",
            "_view_name": "LayoutView",
            "align_content": null,
            "align_items": null,
            "align_self": null,
            "border": null,
            "bottom": null,
            "display": null,
            "flex": null,
            "flex_flow": null,
            "grid_area": null,
            "grid_auto_columns": null,
            "grid_auto_flow": null,
            "grid_auto_rows": null,
            "grid_column": null,
            "grid_gap": null,
            "grid_row": null,
            "grid_template_areas": null,
            "grid_template_columns": null,
            "grid_template_rows": null,
            "height": null,
            "justify_content": null,
            "justify_items": null,
            "left": null,
            "margin": null,
            "max_height": null,
            "max_width": null,
            "min_height": null,
            "min_width": null,
            "object_fit": null,
            "object_position": null,
            "order": null,
            "overflow": null,
            "overflow_x": null,
            "overflow_y": null,
            "padding": null,
            "right": null,
            "top": null,
            "visibility": null,
            "width": null
          }
        },
        "c168bc774b73446f8d3364ed14f25353": {
          "model_module": "@jupyter-widgets/controls",
          "model_name": "ProgressStyleModel",
          "model_module_version": "1.5.0",
          "state": {
            "_model_module": "@jupyter-widgets/controls",
            "_model_module_version": "1.5.0",
            "_model_name": "ProgressStyleModel",
            "_view_count": null,
            "_view_module": "@jupyter-widgets/base",
            "_view_module_version": "1.2.0",
            "_view_name": "StyleView",
            "bar_color": null,
            "description_width": ""
          }
        },
        "3a8e2055e56348f8b681599e16a48393": {
          "model_module": "@jupyter-widgets/base",
          "model_name": "LayoutModel",
          "model_module_version": "1.2.0",
          "state": {
            "_model_module": "@jupyter-widgets/base",
            "_model_module_version": "1.2.0",
            "_model_name": "LayoutModel",
            "_view_count": null,
            "_view_module": "@jupyter-widgets/base",
            "_view_module_version": "1.2.0",
            "_view_name": "LayoutView",
            "align_content": null,
            "align_items": null,
            "align_self": null,
            "border": null,
            "bottom": null,
            "display": null,
            "flex": null,
            "flex_flow": null,
            "grid_area": null,
            "grid_auto_columns": null,
            "grid_auto_flow": null,
            "grid_auto_rows": null,
            "grid_column": null,
            "grid_gap": null,
            "grid_row": null,
            "grid_template_areas": null,
            "grid_template_columns": null,
            "grid_template_rows": null,
            "height": null,
            "justify_content": null,
            "justify_items": null,
            "left": null,
            "margin": null,
            "max_height": null,
            "max_width": null,
            "min_height": null,
            "min_width": null,
            "object_fit": null,
            "object_position": null,
            "order": null,
            "overflow": null,
            "overflow_x": null,
            "overflow_y": null,
            "padding": null,
            "right": null,
            "top": null,
            "visibility": null,
            "width": null
          }
        },
        "71dbb7e35f5f437e8a4706f2a8140d1e": {
          "model_module": "@jupyter-widgets/controls",
          "model_name": "DescriptionStyleModel",
          "model_module_version": "1.5.0",
          "state": {
            "_model_module": "@jupyter-widgets/controls",
            "_model_module_version": "1.5.0",
            "_model_name": "DescriptionStyleModel",
            "_view_count": null,
            "_view_module": "@jupyter-widgets/base",
            "_view_module_version": "1.2.0",
            "_view_name": "StyleView",
            "description_width": ""
          }
        },
        "7f45f1afb2294408be63167618db387b": {
          "model_module": "@jupyter-widgets/controls",
          "model_name": "HBoxModel",
          "model_module_version": "1.5.0",
          "state": {
            "_dom_classes": [],
            "_model_module": "@jupyter-widgets/controls",
            "_model_module_version": "1.5.0",
            "_model_name": "HBoxModel",
            "_view_count": null,
            "_view_module": "@jupyter-widgets/controls",
            "_view_module_version": "1.5.0",
            "_view_name": "HBoxView",
            "box_style": "",
            "children": [
              "IPY_MODEL_97178befb8734318be8ff7b9458e8161",
              "IPY_MODEL_3d29d87711f84be89d29d91e7a279038",
              "IPY_MODEL_6321148687a14f84813dc53c6c66bfcf"
            ],
            "layout": "IPY_MODEL_cedbdd1c64e34450994818de7a788e8f"
          }
        },
        "97178befb8734318be8ff7b9458e8161": {
          "model_module": "@jupyter-widgets/controls",
          "model_name": "HTMLModel",
          "model_module_version": "1.5.0",
          "state": {
            "_dom_classes": [],
            "_model_module": "@jupyter-widgets/controls",
            "_model_module_version": "1.5.0",
            "_model_name": "HTMLModel",
            "_view_count": null,
            "_view_module": "@jupyter-widgets/controls",
            "_view_module_version": "1.5.0",
            "_view_name": "HTMLView",
            "description": "",
            "description_tooltip": null,
            "layout": "IPY_MODEL_46f15c681d754f33a0f92fb3222be89e",
            "placeholder": "​",
            "style": "IPY_MODEL_4770f78ff05545ee9e07e74d91cc690b",
            "value": "Downloading: 100%"
          }
        },
        "3d29d87711f84be89d29d91e7a279038": {
          "model_module": "@jupyter-widgets/controls",
          "model_name": "FloatProgressModel",
          "model_module_version": "1.5.0",
          "state": {
            "_dom_classes": [],
            "_model_module": "@jupyter-widgets/controls",
            "_model_module_version": "1.5.0",
            "_model_name": "FloatProgressModel",
            "_view_count": null,
            "_view_module": "@jupyter-widgets/controls",
            "_view_module_version": "1.5.0",
            "_view_name": "ProgressView",
            "bar_style": "success",
            "description": "",
            "description_tooltip": null,
            "layout": "IPY_MODEL_668320c9ff4e4976926b27cfea591783",
            "max": 14500443,
            "min": 0,
            "orientation": "horizontal",
            "style": "IPY_MODEL_83cb91ca2d0347309762377442282a8f",
            "value": 14500443
          }
        },
        "6321148687a14f84813dc53c6c66bfcf": {
          "model_module": "@jupyter-widgets/controls",
          "model_name": "HTMLModel",
          "model_module_version": "1.5.0",
          "state": {
            "_dom_classes": [],
            "_model_module": "@jupyter-widgets/controls",
            "_model_module_version": "1.5.0",
            "_model_name": "HTMLModel",
            "_view_count": null,
            "_view_module": "@jupyter-widgets/controls",
            "_view_module_version": "1.5.0",
            "_view_name": "HTMLView",
            "description": "",
            "description_tooltip": null,
            "layout": "IPY_MODEL_e1cf1afff3f64b7c9e588591e8b08bf1",
            "placeholder": "​",
            "style": "IPY_MODEL_2be82b965aa942ebb45d6806ad88a000",
            "value": " 14.5M/14.5M [00:00&lt;00:00, 70.1MB/s]"
          }
        },
        "cedbdd1c64e34450994818de7a788e8f": {
          "model_module": "@jupyter-widgets/base",
          "model_name": "LayoutModel",
          "model_module_version": "1.2.0",
          "state": {
            "_model_module": "@jupyter-widgets/base",
            "_model_module_version": "1.2.0",
            "_model_name": "LayoutModel",
            "_view_count": null,
            "_view_module": "@jupyter-widgets/base",
            "_view_module_version": "1.2.0",
            "_view_name": "LayoutView",
            "align_content": null,
            "align_items": null,
            "align_self": null,
            "border": null,
            "bottom": null,
            "display": null,
            "flex": null,
            "flex_flow": null,
            "grid_area": null,
            "grid_auto_columns": null,
            "grid_auto_flow": null,
            "grid_auto_rows": null,
            "grid_column": null,
            "grid_gap": null,
            "grid_row": null,
            "grid_template_areas": null,
            "grid_template_columns": null,
            "grid_template_rows": null,
            "height": null,
            "justify_content": null,
            "justify_items": null,
            "left": null,
            "margin": null,
            "max_height": null,
            "max_width": null,
            "min_height": null,
            "min_width": null,
            "object_fit": null,
            "object_position": null,
            "order": null,
            "overflow": null,
            "overflow_x": null,
            "overflow_y": null,
            "padding": null,
            "right": null,
            "top": null,
            "visibility": null,
            "width": null
          }
        },
        "46f15c681d754f33a0f92fb3222be89e": {
          "model_module": "@jupyter-widgets/base",
          "model_name": "LayoutModel",
          "model_module_version": "1.2.0",
          "state": {
            "_model_module": "@jupyter-widgets/base",
            "_model_module_version": "1.2.0",
            "_model_name": "LayoutModel",
            "_view_count": null,
            "_view_module": "@jupyter-widgets/base",
            "_view_module_version": "1.2.0",
            "_view_name": "LayoutView",
            "align_content": null,
            "align_items": null,
            "align_self": null,
            "border": null,
            "bottom": null,
            "display": null,
            "flex": null,
            "flex_flow": null,
            "grid_area": null,
            "grid_auto_columns": null,
            "grid_auto_flow": null,
            "grid_auto_rows": null,
            "grid_column": null,
            "grid_gap": null,
            "grid_row": null,
            "grid_template_areas": null,
            "grid_template_columns": null,
            "grid_template_rows": null,
            "height": null,
            "justify_content": null,
            "justify_items": null,
            "left": null,
            "margin": null,
            "max_height": null,
            "max_width": null,
            "min_height": null,
            "min_width": null,
            "object_fit": null,
            "object_position": null,
            "order": null,
            "overflow": null,
            "overflow_x": null,
            "overflow_y": null,
            "padding": null,
            "right": null,
            "top": null,
            "visibility": null,
            "width": null
          }
        },
        "4770f78ff05545ee9e07e74d91cc690b": {
          "model_module": "@jupyter-widgets/controls",
          "model_name": "DescriptionStyleModel",
          "model_module_version": "1.5.0",
          "state": {
            "_model_module": "@jupyter-widgets/controls",
            "_model_module_version": "1.5.0",
            "_model_name": "DescriptionStyleModel",
            "_view_count": null,
            "_view_module": "@jupyter-widgets/base",
            "_view_module_version": "1.2.0",
            "_view_name": "StyleView",
            "description_width": ""
          }
        },
        "668320c9ff4e4976926b27cfea591783": {
          "model_module": "@jupyter-widgets/base",
          "model_name": "LayoutModel",
          "model_module_version": "1.2.0",
          "state": {
            "_model_module": "@jupyter-widgets/base",
            "_model_module_version": "1.2.0",
            "_model_name": "LayoutModel",
            "_view_count": null,
            "_view_module": "@jupyter-widgets/base",
            "_view_module_version": "1.2.0",
            "_view_name": "LayoutView",
            "align_content": null,
            "align_items": null,
            "align_self": null,
            "border": null,
            "bottom": null,
            "display": null,
            "flex": null,
            "flex_flow": null,
            "grid_area": null,
            "grid_auto_columns": null,
            "grid_auto_flow": null,
            "grid_auto_rows": null,
            "grid_column": null,
            "grid_gap": null,
            "grid_row": null,
            "grid_template_areas": null,
            "grid_template_columns": null,
            "grid_template_rows": null,
            "height": null,
            "justify_content": null,
            "justify_items": null,
            "left": null,
            "margin": null,
            "max_height": null,
            "max_width": null,
            "min_height": null,
            "min_width": null,
            "object_fit": null,
            "object_position": null,
            "order": null,
            "overflow": null,
            "overflow_x": null,
            "overflow_y": null,
            "padding": null,
            "right": null,
            "top": null,
            "visibility": null,
            "width": null
          }
        },
        "83cb91ca2d0347309762377442282a8f": {
          "model_module": "@jupyter-widgets/controls",
          "model_name": "ProgressStyleModel",
          "model_module_version": "1.5.0",
          "state": {
            "_model_module": "@jupyter-widgets/controls",
            "_model_module_version": "1.5.0",
            "_model_name": "ProgressStyleModel",
            "_view_count": null,
            "_view_module": "@jupyter-widgets/base",
            "_view_module_version": "1.2.0",
            "_view_name": "StyleView",
            "bar_color": null,
            "description_width": ""
          }
        },
        "e1cf1afff3f64b7c9e588591e8b08bf1": {
          "model_module": "@jupyter-widgets/base",
          "model_name": "LayoutModel",
          "model_module_version": "1.2.0",
          "state": {
            "_model_module": "@jupyter-widgets/base",
            "_model_module_version": "1.2.0",
            "_model_name": "LayoutModel",
            "_view_count": null,
            "_view_module": "@jupyter-widgets/base",
            "_view_module_version": "1.2.0",
            "_view_name": "LayoutView",
            "align_content": null,
            "align_items": null,
            "align_self": null,
            "border": null,
            "bottom": null,
            "display": null,
            "flex": null,
            "flex_flow": null,
            "grid_area": null,
            "grid_auto_columns": null,
            "grid_auto_flow": null,
            "grid_auto_rows": null,
            "grid_column": null,
            "grid_gap": null,
            "grid_row": null,
            "grid_template_areas": null,
            "grid_template_columns": null,
            "grid_template_rows": null,
            "height": null,
            "justify_content": null,
            "justify_items": null,
            "left": null,
            "margin": null,
            "max_height": null,
            "max_width": null,
            "min_height": null,
            "min_width": null,
            "object_fit": null,
            "object_position": null,
            "order": null,
            "overflow": null,
            "overflow_x": null,
            "overflow_y": null,
            "padding": null,
            "right": null,
            "top": null,
            "visibility": null,
            "width": null
          }
        },
        "2be82b965aa942ebb45d6806ad88a000": {
          "model_module": "@jupyter-widgets/controls",
          "model_name": "DescriptionStyleModel",
          "model_module_version": "1.5.0",
          "state": {
            "_model_module": "@jupyter-widgets/controls",
            "_model_module_version": "1.5.0",
            "_model_name": "DescriptionStyleModel",
            "_view_count": null,
            "_view_module": "@jupyter-widgets/base",
            "_view_module_version": "1.2.0",
            "_view_name": "StyleView",
            "description_width": ""
          }
        },
        "b07ab054892c43a19f5a1b181d1f83b6": {
          "model_module": "@jupyter-widgets/controls",
          "model_name": "HBoxModel",
          "model_module_version": "1.5.0",
          "state": {
            "_dom_classes": [],
            "_model_module": "@jupyter-widgets/controls",
            "_model_module_version": "1.5.0",
            "_model_name": "HBoxModel",
            "_view_count": null,
            "_view_module": "@jupyter-widgets/controls",
            "_view_module_version": "1.5.0",
            "_view_name": "HBoxView",
            "box_style": "",
            "children": [
              "IPY_MODEL_7e46cd2ad2cb4ddc9b35880886f0c937",
              "IPY_MODEL_f0dc4ca74af94bacb72e230a2a069bf4",
              "IPY_MODEL_e0af1ded164549ba93a98e112d96e016"
            ],
            "layout": "IPY_MODEL_bc04bebac66446a4921e7a07fb1e42fb"
          }
        },
        "7e46cd2ad2cb4ddc9b35880886f0c937": {
          "model_module": "@jupyter-widgets/controls",
          "model_name": "HTMLModel",
          "model_module_version": "1.5.0",
          "state": {
            "_dom_classes": [],
            "_model_module": "@jupyter-widgets/controls",
            "_model_module_version": "1.5.0",
            "_model_name": "HTMLModel",
            "_view_count": null,
            "_view_module": "@jupyter-widgets/controls",
            "_view_module_version": "1.5.0",
            "_view_name": "HTMLView",
            "description": "",
            "description_tooltip": null,
            "layout": "IPY_MODEL_2258653b1bac4f5f8428eee3f7f95f76",
            "placeholder": "​",
            "style": "IPY_MODEL_8ca0aab9eab8405886f5d2fd1893dc57",
            "value": "Downloading: 100%"
          }
        },
        "f0dc4ca74af94bacb72e230a2a069bf4": {
          "model_module": "@jupyter-widgets/controls",
          "model_name": "FloatProgressModel",
          "model_module_version": "1.5.0",
          "state": {
            "_dom_classes": [],
            "_model_module": "@jupyter-widgets/controls",
            "_model_module_version": "1.5.0",
            "_model_name": "FloatProgressModel",
            "_view_count": null,
            "_view_module": "@jupyter-widgets/controls",
            "_view_module_version": "1.5.0",
            "_view_name": "ProgressView",
            "bar_style": "success",
            "description": "",
            "description_tooltip": null,
            "layout": "IPY_MODEL_aec4eae453ef46a389db20ceed8ce94e",
            "max": 96,
            "min": 0,
            "orientation": "horizontal",
            "style": "IPY_MODEL_0f54c01eb86d4f91ab7eb81bd6bf2e34",
            "value": 96
          }
        },
        "e0af1ded164549ba93a98e112d96e016": {
          "model_module": "@jupyter-widgets/controls",
          "model_name": "HTMLModel",
          "model_module_version": "1.5.0",
          "state": {
            "_dom_classes": [],
            "_model_module": "@jupyter-widgets/controls",
            "_model_module_version": "1.5.0",
            "_model_name": "HTMLModel",
            "_view_count": null,
            "_view_module": "@jupyter-widgets/controls",
            "_view_module_version": "1.5.0",
            "_view_name": "HTMLView",
            "description": "",
            "description_tooltip": null,
            "layout": "IPY_MODEL_3d1a45ccee31468f8ed468ed7e4c835a",
            "placeholder": "​",
            "style": "IPY_MODEL_0f661e16774a46fbb44dff3ea84c739a",
            "value": " 96.0/96.0 [00:00&lt;00:00, 4.18kB/s]"
          }
        },
        "bc04bebac66446a4921e7a07fb1e42fb": {
          "model_module": "@jupyter-widgets/base",
          "model_name": "LayoutModel",
          "model_module_version": "1.2.0",
          "state": {
            "_model_module": "@jupyter-widgets/base",
            "_model_module_version": "1.2.0",
            "_model_name": "LayoutModel",
            "_view_count": null,
            "_view_module": "@jupyter-widgets/base",
            "_view_module_version": "1.2.0",
            "_view_name": "LayoutView",
            "align_content": null,
            "align_items": null,
            "align_self": null,
            "border": null,
            "bottom": null,
            "display": null,
            "flex": null,
            "flex_flow": null,
            "grid_area": null,
            "grid_auto_columns": null,
            "grid_auto_flow": null,
            "grid_auto_rows": null,
            "grid_column": null,
            "grid_gap": null,
            "grid_row": null,
            "grid_template_areas": null,
            "grid_template_columns": null,
            "grid_template_rows": null,
            "height": null,
            "justify_content": null,
            "justify_items": null,
            "left": null,
            "margin": null,
            "max_height": null,
            "max_width": null,
            "min_height": null,
            "min_width": null,
            "object_fit": null,
            "object_position": null,
            "order": null,
            "overflow": null,
            "overflow_x": null,
            "overflow_y": null,
            "padding": null,
            "right": null,
            "top": null,
            "visibility": null,
            "width": null
          }
        },
        "2258653b1bac4f5f8428eee3f7f95f76": {
          "model_module": "@jupyter-widgets/base",
          "model_name": "LayoutModel",
          "model_module_version": "1.2.0",
          "state": {
            "_model_module": "@jupyter-widgets/base",
            "_model_module_version": "1.2.0",
            "_model_name": "LayoutModel",
            "_view_count": null,
            "_view_module": "@jupyter-widgets/base",
            "_view_module_version": "1.2.0",
            "_view_name": "LayoutView",
            "align_content": null,
            "align_items": null,
            "align_self": null,
            "border": null,
            "bottom": null,
            "display": null,
            "flex": null,
            "flex_flow": null,
            "grid_area": null,
            "grid_auto_columns": null,
            "grid_auto_flow": null,
            "grid_auto_rows": null,
            "grid_column": null,
            "grid_gap": null,
            "grid_row": null,
            "grid_template_areas": null,
            "grid_template_columns": null,
            "grid_template_rows": null,
            "height": null,
            "justify_content": null,
            "justify_items": null,
            "left": null,
            "margin": null,
            "max_height": null,
            "max_width": null,
            "min_height": null,
            "min_width": null,
            "object_fit": null,
            "object_position": null,
            "order": null,
            "overflow": null,
            "overflow_x": null,
            "overflow_y": null,
            "padding": null,
            "right": null,
            "top": null,
            "visibility": null,
            "width": null
          }
        },
        "8ca0aab9eab8405886f5d2fd1893dc57": {
          "model_module": "@jupyter-widgets/controls",
          "model_name": "DescriptionStyleModel",
          "model_module_version": "1.5.0",
          "state": {
            "_model_module": "@jupyter-widgets/controls",
            "_model_module_version": "1.5.0",
            "_model_name": "DescriptionStyleModel",
            "_view_count": null,
            "_view_module": "@jupyter-widgets/base",
            "_view_module_version": "1.2.0",
            "_view_name": "StyleView",
            "description_width": ""
          }
        },
        "aec4eae453ef46a389db20ceed8ce94e": {
          "model_module": "@jupyter-widgets/base",
          "model_name": "LayoutModel",
          "model_module_version": "1.2.0",
          "state": {
            "_model_module": "@jupyter-widgets/base",
            "_model_module_version": "1.2.0",
            "_model_name": "LayoutModel",
            "_view_count": null,
            "_view_module": "@jupyter-widgets/base",
            "_view_module_version": "1.2.0",
            "_view_name": "LayoutView",
            "align_content": null,
            "align_items": null,
            "align_self": null,
            "border": null,
            "bottom": null,
            "display": null,
            "flex": null,
            "flex_flow": null,
            "grid_area": null,
            "grid_auto_columns": null,
            "grid_auto_flow": null,
            "grid_auto_rows": null,
            "grid_column": null,
            "grid_gap": null,
            "grid_row": null,
            "grid_template_areas": null,
            "grid_template_columns": null,
            "grid_template_rows": null,
            "height": null,
            "justify_content": null,
            "justify_items": null,
            "left": null,
            "margin": null,
            "max_height": null,
            "max_width": null,
            "min_height": null,
            "min_width": null,
            "object_fit": null,
            "object_position": null,
            "order": null,
            "overflow": null,
            "overflow_x": null,
            "overflow_y": null,
            "padding": null,
            "right": null,
            "top": null,
            "visibility": null,
            "width": null
          }
        },
        "0f54c01eb86d4f91ab7eb81bd6bf2e34": {
          "model_module": "@jupyter-widgets/controls",
          "model_name": "ProgressStyleModel",
          "model_module_version": "1.5.0",
          "state": {
            "_model_module": "@jupyter-widgets/controls",
            "_model_module_version": "1.5.0",
            "_model_name": "ProgressStyleModel",
            "_view_count": null,
            "_view_module": "@jupyter-widgets/base",
            "_view_module_version": "1.2.0",
            "_view_name": "StyleView",
            "bar_color": null,
            "description_width": ""
          }
        },
        "3d1a45ccee31468f8ed468ed7e4c835a": {
          "model_module": "@jupyter-widgets/base",
          "model_name": "LayoutModel",
          "model_module_version": "1.2.0",
          "state": {
            "_model_module": "@jupyter-widgets/base",
            "_model_module_version": "1.2.0",
            "_model_name": "LayoutModel",
            "_view_count": null,
            "_view_module": "@jupyter-widgets/base",
            "_view_module_version": "1.2.0",
            "_view_name": "LayoutView",
            "align_content": null,
            "align_items": null,
            "align_self": null,
            "border": null,
            "bottom": null,
            "display": null,
            "flex": null,
            "flex_flow": null,
            "grid_area": null,
            "grid_auto_columns": null,
            "grid_auto_flow": null,
            "grid_auto_rows": null,
            "grid_column": null,
            "grid_gap": null,
            "grid_row": null,
            "grid_template_areas": null,
            "grid_template_columns": null,
            "grid_template_rows": null,
            "height": null,
            "justify_content": null,
            "justify_items": null,
            "left": null,
            "margin": null,
            "max_height": null,
            "max_width": null,
            "min_height": null,
            "min_width": null,
            "object_fit": null,
            "object_position": null,
            "order": null,
            "overflow": null,
            "overflow_x": null,
            "overflow_y": null,
            "padding": null,
            "right": null,
            "top": null,
            "visibility": null,
            "width": null
          }
        },
        "0f661e16774a46fbb44dff3ea84c739a": {
          "model_module": "@jupyter-widgets/controls",
          "model_name": "DescriptionStyleModel",
          "model_module_version": "1.5.0",
          "state": {
            "_model_module": "@jupyter-widgets/controls",
            "_model_module_version": "1.5.0",
            "_model_name": "DescriptionStyleModel",
            "_view_count": null,
            "_view_module": "@jupyter-widgets/base",
            "_view_module_version": "1.2.0",
            "_view_name": "StyleView",
            "description_width": ""
          }
        },
        "917d5995c4c64520a60a0e37b53c0980": {
          "model_module": "@jupyter-widgets/controls",
          "model_name": "HBoxModel",
          "model_module_version": "1.5.0",
          "state": {
            "_dom_classes": [],
            "_model_module": "@jupyter-widgets/controls",
            "_model_module_version": "1.5.0",
            "_model_name": "HBoxModel",
            "_view_count": null,
            "_view_module": "@jupyter-widgets/controls",
            "_view_module_version": "1.5.0",
            "_view_name": "HBoxView",
            "box_style": "",
            "children": [
              "IPY_MODEL_78b8b8b30a7e46b79b24aaaafa507108",
              "IPY_MODEL_aaea4d168cea4d0890f93c5260117943",
              "IPY_MODEL_7714e080cb9d414db35e2310a95c85b2"
            ],
            "layout": "IPY_MODEL_49d1e3d53cc94d7a8a9b63e71a29bd71"
          }
        },
        "78b8b8b30a7e46b79b24aaaafa507108": {
          "model_module": "@jupyter-widgets/controls",
          "model_name": "HTMLModel",
          "model_module_version": "1.5.0",
          "state": {
            "_dom_classes": [],
            "_model_module": "@jupyter-widgets/controls",
            "_model_module_version": "1.5.0",
            "_model_name": "HTMLModel",
            "_view_count": null,
            "_view_module": "@jupyter-widgets/controls",
            "_view_module_version": "1.5.0",
            "_view_name": "HTMLView",
            "description": "",
            "description_tooltip": null,
            "layout": "IPY_MODEL_f548485a6f9743d895c026616b8648ec",
            "placeholder": "​",
            "style": "IPY_MODEL_9ee450f14b9244f2bb3b805142572ba0",
            "value": "Downloading: 100%"
          }
        },
        "aaea4d168cea4d0890f93c5260117943": {
          "model_module": "@jupyter-widgets/controls",
          "model_name": "FloatProgressModel",
          "model_module_version": "1.5.0",
          "state": {
            "_dom_classes": [],
            "_model_module": "@jupyter-widgets/controls",
            "_model_module_version": "1.5.0",
            "_model_name": "FloatProgressModel",
            "_view_count": null,
            "_view_module": "@jupyter-widgets/controls",
            "_view_module_version": "1.5.0",
            "_view_name": "ProgressView",
            "bar_style": "success",
            "description": "",
            "description_tooltip": null,
            "layout": "IPY_MODEL_bfd675940db04538902295446be35106",
            "max": 641,
            "min": 0,
            "orientation": "horizontal",
            "style": "IPY_MODEL_8a60ec5e1ce24c7a8793f7800a494e26",
            "value": 641
          }
        },
        "7714e080cb9d414db35e2310a95c85b2": {
          "model_module": "@jupyter-widgets/controls",
          "model_name": "HTMLModel",
          "model_module_version": "1.5.0",
          "state": {
            "_dom_classes": [],
            "_model_module": "@jupyter-widgets/controls",
            "_model_module_version": "1.5.0",
            "_model_name": "HTMLModel",
            "_view_count": null,
            "_view_module": "@jupyter-widgets/controls",
            "_view_module_version": "1.5.0",
            "_view_name": "HTMLView",
            "description": "",
            "description_tooltip": null,
            "layout": "IPY_MODEL_128d310ffd3a4a0b94950b488f70ec91",
            "placeholder": "​",
            "style": "IPY_MODEL_f3146262018a4e83a12bd42cb5137022",
            "value": " 641/641 [00:00&lt;00:00, 24.8kB/s]"
          }
        },
        "49d1e3d53cc94d7a8a9b63e71a29bd71": {
          "model_module": "@jupyter-widgets/base",
          "model_name": "LayoutModel",
          "model_module_version": "1.2.0",
          "state": {
            "_model_module": "@jupyter-widgets/base",
            "_model_module_version": "1.2.0",
            "_model_name": "LayoutModel",
            "_view_count": null,
            "_view_module": "@jupyter-widgets/base",
            "_view_module_version": "1.2.0",
            "_view_name": "LayoutView",
            "align_content": null,
            "align_items": null,
            "align_self": null,
            "border": null,
            "bottom": null,
            "display": null,
            "flex": null,
            "flex_flow": null,
            "grid_area": null,
            "grid_auto_columns": null,
            "grid_auto_flow": null,
            "grid_auto_rows": null,
            "grid_column": null,
            "grid_gap": null,
            "grid_row": null,
            "grid_template_areas": null,
            "grid_template_columns": null,
            "grid_template_rows": null,
            "height": null,
            "justify_content": null,
            "justify_items": null,
            "left": null,
            "margin": null,
            "max_height": null,
            "max_width": null,
            "min_height": null,
            "min_width": null,
            "object_fit": null,
            "object_position": null,
            "order": null,
            "overflow": null,
            "overflow_x": null,
            "overflow_y": null,
            "padding": null,
            "right": null,
            "top": null,
            "visibility": null,
            "width": null
          }
        },
        "f548485a6f9743d895c026616b8648ec": {
          "model_module": "@jupyter-widgets/base",
          "model_name": "LayoutModel",
          "model_module_version": "1.2.0",
          "state": {
            "_model_module": "@jupyter-widgets/base",
            "_model_module_version": "1.2.0",
            "_model_name": "LayoutModel",
            "_view_count": null,
            "_view_module": "@jupyter-widgets/base",
            "_view_module_version": "1.2.0",
            "_view_name": "LayoutView",
            "align_content": null,
            "align_items": null,
            "align_self": null,
            "border": null,
            "bottom": null,
            "display": null,
            "flex": null,
            "flex_flow": null,
            "grid_area": null,
            "grid_auto_columns": null,
            "grid_auto_flow": null,
            "grid_auto_rows": null,
            "grid_column": null,
            "grid_gap": null,
            "grid_row": null,
            "grid_template_areas": null,
            "grid_template_columns": null,
            "grid_template_rows": null,
            "height": null,
            "justify_content": null,
            "justify_items": null,
            "left": null,
            "margin": null,
            "max_height": null,
            "max_width": null,
            "min_height": null,
            "min_width": null,
            "object_fit": null,
            "object_position": null,
            "order": null,
            "overflow": null,
            "overflow_x": null,
            "overflow_y": null,
            "padding": null,
            "right": null,
            "top": null,
            "visibility": null,
            "width": null
          }
        },
        "9ee450f14b9244f2bb3b805142572ba0": {
          "model_module": "@jupyter-widgets/controls",
          "model_name": "DescriptionStyleModel",
          "model_module_version": "1.5.0",
          "state": {
            "_model_module": "@jupyter-widgets/controls",
            "_model_module_version": "1.5.0",
            "_model_name": "DescriptionStyleModel",
            "_view_count": null,
            "_view_module": "@jupyter-widgets/base",
            "_view_module_version": "1.2.0",
            "_view_name": "StyleView",
            "description_width": ""
          }
        },
        "bfd675940db04538902295446be35106": {
          "model_module": "@jupyter-widgets/base",
          "model_name": "LayoutModel",
          "model_module_version": "1.2.0",
          "state": {
            "_model_module": "@jupyter-widgets/base",
            "_model_module_version": "1.2.0",
            "_model_name": "LayoutModel",
            "_view_count": null,
            "_view_module": "@jupyter-widgets/base",
            "_view_module_version": "1.2.0",
            "_view_name": "LayoutView",
            "align_content": null,
            "align_items": null,
            "align_self": null,
            "border": null,
            "bottom": null,
            "display": null,
            "flex": null,
            "flex_flow": null,
            "grid_area": null,
            "grid_auto_columns": null,
            "grid_auto_flow": null,
            "grid_auto_rows": null,
            "grid_column": null,
            "grid_gap": null,
            "grid_row": null,
            "grid_template_areas": null,
            "grid_template_columns": null,
            "grid_template_rows": null,
            "height": null,
            "justify_content": null,
            "justify_items": null,
            "left": null,
            "margin": null,
            "max_height": null,
            "max_width": null,
            "min_height": null,
            "min_width": null,
            "object_fit": null,
            "object_position": null,
            "order": null,
            "overflow": null,
            "overflow_x": null,
            "overflow_y": null,
            "padding": null,
            "right": null,
            "top": null,
            "visibility": null,
            "width": null
          }
        },
        "8a60ec5e1ce24c7a8793f7800a494e26": {
          "model_module": "@jupyter-widgets/controls",
          "model_name": "ProgressStyleModel",
          "model_module_version": "1.5.0",
          "state": {
            "_model_module": "@jupyter-widgets/controls",
            "_model_module_version": "1.5.0",
            "_model_name": "ProgressStyleModel",
            "_view_count": null,
            "_view_module": "@jupyter-widgets/base",
            "_view_module_version": "1.2.0",
            "_view_name": "StyleView",
            "bar_color": null,
            "description_width": ""
          }
        },
        "128d310ffd3a4a0b94950b488f70ec91": {
          "model_module": "@jupyter-widgets/base",
          "model_name": "LayoutModel",
          "model_module_version": "1.2.0",
          "state": {
            "_model_module": "@jupyter-widgets/base",
            "_model_module_version": "1.2.0",
            "_model_name": "LayoutModel",
            "_view_count": null,
            "_view_module": "@jupyter-widgets/base",
            "_view_module_version": "1.2.0",
            "_view_name": "LayoutView",
            "align_content": null,
            "align_items": null,
            "align_self": null,
            "border": null,
            "bottom": null,
            "display": null,
            "flex": null,
            "flex_flow": null,
            "grid_area": null,
            "grid_auto_columns": null,
            "grid_auto_flow": null,
            "grid_auto_rows": null,
            "grid_column": null,
            "grid_gap": null,
            "grid_row": null,
            "grid_template_areas": null,
            "grid_template_columns": null,
            "grid_template_rows": null,
            "height": null,
            "justify_content": null,
            "justify_items": null,
            "left": null,
            "margin": null,
            "max_height": null,
            "max_width": null,
            "min_height": null,
            "min_width": null,
            "object_fit": null,
            "object_position": null,
            "order": null,
            "overflow": null,
            "overflow_x": null,
            "overflow_y": null,
            "padding": null,
            "right": null,
            "top": null,
            "visibility": null,
            "width": null
          }
        },
        "f3146262018a4e83a12bd42cb5137022": {
          "model_module": "@jupyter-widgets/controls",
          "model_name": "DescriptionStyleModel",
          "model_module_version": "1.5.0",
          "state": {
            "_model_module": "@jupyter-widgets/controls",
            "_model_module_version": "1.5.0",
            "_model_name": "DescriptionStyleModel",
            "_view_count": null,
            "_view_module": "@jupyter-widgets/base",
            "_view_module_version": "1.2.0",
            "_view_name": "StyleView",
            "description_width": ""
          }
        },
        "3782fee86c1848e48a32902eab363e93": {
          "model_module": "@jupyter-widgets/controls",
          "model_name": "HBoxModel",
          "model_module_version": "1.5.0",
          "state": {
            "_dom_classes": [],
            "_model_module": "@jupyter-widgets/controls",
            "_model_module_version": "1.5.0",
            "_model_name": "HBoxModel",
            "_view_count": null,
            "_view_module": "@jupyter-widgets/controls",
            "_view_module_version": "1.5.0",
            "_view_name": "HBoxView",
            "box_style": "",
            "children": [
              "IPY_MODEL_8ae25b5d559e4f4381d7400f5666e6c3",
              "IPY_MODEL_04f95222fb0d4ec3978e8fa120f24709",
              "IPY_MODEL_1245c561729a46efb614e49e650b73d9"
            ],
            "layout": "IPY_MODEL_61fa3a7b080e4c90ba00755c722eb2ca"
          }
        },
        "8ae25b5d559e4f4381d7400f5666e6c3": {
          "model_module": "@jupyter-widgets/controls",
          "model_name": "HTMLModel",
          "model_module_version": "1.5.0",
          "state": {
            "_dom_classes": [],
            "_model_module": "@jupyter-widgets/controls",
            "_model_module_version": "1.5.0",
            "_model_name": "HTMLModel",
            "_view_count": null,
            "_view_module": "@jupyter-widgets/controls",
            "_view_module_version": "1.5.0",
            "_view_name": "HTMLView",
            "description": "",
            "description_tooltip": null,
            "layout": "IPY_MODEL_e3e285b8e58242c8879c5f34dc45b309",
            "placeholder": "​",
            "style": "IPY_MODEL_f11dec2dc9d449cdbd71e961256c90da",
            "value": "Downloading: 100%"
          }
        },
        "04f95222fb0d4ec3978e8fa120f24709": {
          "model_module": "@jupyter-widgets/controls",
          "model_name": "FloatProgressModel",
          "model_module_version": "1.5.0",
          "state": {
            "_dom_classes": [],
            "_model_module": "@jupyter-widgets/controls",
            "_model_module_version": "1.5.0",
            "_model_name": "FloatProgressModel",
            "_view_count": null,
            "_view_module": "@jupyter-widgets/controls",
            "_view_module_version": "1.5.0",
            "_view_name": "ProgressView",
            "bar_style": "success",
            "description": "",
            "description_tooltip": null,
            "layout": "IPY_MODEL_c560055f771040f8a922561bdf1d3ee3",
            "max": 7193348019,
            "min": 0,
            "orientation": "horizontal",
            "style": "IPY_MODEL_f396bca0a4ca474ca1dac3f960561fb0",
            "value": 7193348019
          }
        },
        "1245c561729a46efb614e49e650b73d9": {
          "model_module": "@jupyter-widgets/controls",
          "model_name": "HTMLModel",
          "model_module_version": "1.5.0",
          "state": {
            "_dom_classes": [],
            "_model_module": "@jupyter-widgets/controls",
            "_model_module_version": "1.5.0",
            "_model_name": "HTMLModel",
            "_view_count": null,
            "_view_module": "@jupyter-widgets/controls",
            "_view_module_version": "1.5.0",
            "_view_name": "HTMLView",
            "description": "",
            "description_tooltip": null,
            "layout": "IPY_MODEL_7270079b00014d48a94d0298023ac80a",
            "placeholder": "​",
            "style": "IPY_MODEL_832c51191b154b4ebb81d8403594876f",
            "value": " 7.19G/7.19G [01:49&lt;00:00, 70.0MB/s]"
          }
        },
        "61fa3a7b080e4c90ba00755c722eb2ca": {
          "model_module": "@jupyter-widgets/base",
          "model_name": "LayoutModel",
          "model_module_version": "1.2.0",
          "state": {
            "_model_module": "@jupyter-widgets/base",
            "_model_module_version": "1.2.0",
            "_model_name": "LayoutModel",
            "_view_count": null,
            "_view_module": "@jupyter-widgets/base",
            "_view_module_version": "1.2.0",
            "_view_name": "LayoutView",
            "align_content": null,
            "align_items": null,
            "align_self": null,
            "border": null,
            "bottom": null,
            "display": null,
            "flex": null,
            "flex_flow": null,
            "grid_area": null,
            "grid_auto_columns": null,
            "grid_auto_flow": null,
            "grid_auto_rows": null,
            "grid_column": null,
            "grid_gap": null,
            "grid_row": null,
            "grid_template_areas": null,
            "grid_template_columns": null,
            "grid_template_rows": null,
            "height": null,
            "justify_content": null,
            "justify_items": null,
            "left": null,
            "margin": null,
            "max_height": null,
            "max_width": null,
            "min_height": null,
            "min_width": null,
            "object_fit": null,
            "object_position": null,
            "order": null,
            "overflow": null,
            "overflow_x": null,
            "overflow_y": null,
            "padding": null,
            "right": null,
            "top": null,
            "visibility": null,
            "width": null
          }
        },
        "e3e285b8e58242c8879c5f34dc45b309": {
          "model_module": "@jupyter-widgets/base",
          "model_name": "LayoutModel",
          "model_module_version": "1.2.0",
          "state": {
            "_model_module": "@jupyter-widgets/base",
            "_model_module_version": "1.2.0",
            "_model_name": "LayoutModel",
            "_view_count": null,
            "_view_module": "@jupyter-widgets/base",
            "_view_module_version": "1.2.0",
            "_view_name": "LayoutView",
            "align_content": null,
            "align_items": null,
            "align_self": null,
            "border": null,
            "bottom": null,
            "display": null,
            "flex": null,
            "flex_flow": null,
            "grid_area": null,
            "grid_auto_columns": null,
            "grid_auto_flow": null,
            "grid_auto_rows": null,
            "grid_column": null,
            "grid_gap": null,
            "grid_row": null,
            "grid_template_areas": null,
            "grid_template_columns": null,
            "grid_template_rows": null,
            "height": null,
            "justify_content": null,
            "justify_items": null,
            "left": null,
            "margin": null,
            "max_height": null,
            "max_width": null,
            "min_height": null,
            "min_width": null,
            "object_fit": null,
            "object_position": null,
            "order": null,
            "overflow": null,
            "overflow_x": null,
            "overflow_y": null,
            "padding": null,
            "right": null,
            "top": null,
            "visibility": null,
            "width": null
          }
        },
        "f11dec2dc9d449cdbd71e961256c90da": {
          "model_module": "@jupyter-widgets/controls",
          "model_name": "DescriptionStyleModel",
          "model_module_version": "1.5.0",
          "state": {
            "_model_module": "@jupyter-widgets/controls",
            "_model_module_version": "1.5.0",
            "_model_name": "DescriptionStyleModel",
            "_view_count": null,
            "_view_module": "@jupyter-widgets/base",
            "_view_module_version": "1.2.0",
            "_view_name": "StyleView",
            "description_width": ""
          }
        },
        "c560055f771040f8a922561bdf1d3ee3": {
          "model_module": "@jupyter-widgets/base",
          "model_name": "LayoutModel",
          "model_module_version": "1.2.0",
          "state": {
            "_model_module": "@jupyter-widgets/base",
            "_model_module_version": "1.2.0",
            "_model_name": "LayoutModel",
            "_view_count": null,
            "_view_module": "@jupyter-widgets/base",
            "_view_module_version": "1.2.0",
            "_view_name": "LayoutView",
            "align_content": null,
            "align_items": null,
            "align_self": null,
            "border": null,
            "bottom": null,
            "display": null,
            "flex": null,
            "flex_flow": null,
            "grid_area": null,
            "grid_auto_columns": null,
            "grid_auto_flow": null,
            "grid_auto_rows": null,
            "grid_column": null,
            "grid_gap": null,
            "grid_row": null,
            "grid_template_areas": null,
            "grid_template_columns": null,
            "grid_template_rows": null,
            "height": null,
            "justify_content": null,
            "justify_items": null,
            "left": null,
            "margin": null,
            "max_height": null,
            "max_width": null,
            "min_height": null,
            "min_width": null,
            "object_fit": null,
            "object_position": null,
            "order": null,
            "overflow": null,
            "overflow_x": null,
            "overflow_y": null,
            "padding": null,
            "right": null,
            "top": null,
            "visibility": null,
            "width": null
          }
        },
        "f396bca0a4ca474ca1dac3f960561fb0": {
          "model_module": "@jupyter-widgets/controls",
          "model_name": "ProgressStyleModel",
          "model_module_version": "1.5.0",
          "state": {
            "_model_module": "@jupyter-widgets/controls",
            "_model_module_version": "1.5.0",
            "_model_name": "ProgressStyleModel",
            "_view_count": null,
            "_view_module": "@jupyter-widgets/base",
            "_view_module_version": "1.2.0",
            "_view_name": "StyleView",
            "bar_color": null,
            "description_width": ""
          }
        },
        "7270079b00014d48a94d0298023ac80a": {
          "model_module": "@jupyter-widgets/base",
          "model_name": "LayoutModel",
          "model_module_version": "1.2.0",
          "state": {
            "_model_module": "@jupyter-widgets/base",
            "_model_module_version": "1.2.0",
            "_model_name": "LayoutModel",
            "_view_count": null,
            "_view_module": "@jupyter-widgets/base",
            "_view_module_version": "1.2.0",
            "_view_name": "LayoutView",
            "align_content": null,
            "align_items": null,
            "align_self": null,
            "border": null,
            "bottom": null,
            "display": null,
            "flex": null,
            "flex_flow": null,
            "grid_area": null,
            "grid_auto_columns": null,
            "grid_auto_flow": null,
            "grid_auto_rows": null,
            "grid_column": null,
            "grid_gap": null,
            "grid_row": null,
            "grid_template_areas": null,
            "grid_template_columns": null,
            "grid_template_rows": null,
            "height": null,
            "justify_content": null,
            "justify_items": null,
            "left": null,
            "margin": null,
            "max_height": null,
            "max_width": null,
            "min_height": null,
            "min_width": null,
            "object_fit": null,
            "object_position": null,
            "order": null,
            "overflow": null,
            "overflow_x": null,
            "overflow_y": null,
            "padding": null,
            "right": null,
            "top": null,
            "visibility": null,
            "width": null
          }
        },
        "832c51191b154b4ebb81d8403594876f": {
          "model_module": "@jupyter-widgets/controls",
          "model_name": "DescriptionStyleModel",
          "model_module_version": "1.5.0",
          "state": {
            "_model_module": "@jupyter-widgets/controls",
            "_model_module_version": "1.5.0",
            "_model_name": "DescriptionStyleModel",
            "_view_count": null,
            "_view_module": "@jupyter-widgets/base",
            "_view_module_version": "1.2.0",
            "_view_name": "StyleView",
            "description_width": ""
          }
        },
        "555e856046a046c2be50e5d55003804e": {
          "model_module": "@jupyter-widgets/controls",
          "model_name": "HBoxModel",
          "model_module_version": "1.5.0",
          "state": {
            "_dom_classes": [],
            "_model_module": "@jupyter-widgets/controls",
            "_model_module_version": "1.5.0",
            "_model_name": "HBoxModel",
            "_view_count": null,
            "_view_module": "@jupyter-widgets/controls",
            "_view_module_version": "1.5.0",
            "_view_name": "HBoxView",
            "box_style": "",
            "children": [
              "IPY_MODEL_993cf2282f9f4bff977a5b0abe36bdb5",
              "IPY_MODEL_452cbe63497f4cdb9777b7c3e316b462",
              "IPY_MODEL_ef2e3e26774547489db38f742a3dd5b8"
            ],
            "layout": "IPY_MODEL_916a1962ba504bcbadbd9bf3a84904fc"
          }
        },
        "993cf2282f9f4bff977a5b0abe36bdb5": {
          "model_module": "@jupyter-widgets/controls",
          "model_name": "HTMLModel",
          "model_module_version": "1.5.0",
          "state": {
            "_dom_classes": [],
            "_model_module": "@jupyter-widgets/controls",
            "_model_module_version": "1.5.0",
            "_model_name": "HTMLModel",
            "_view_count": null,
            "_view_module": "@jupyter-widgets/controls",
            "_view_module_version": "1.5.0",
            "_view_name": "HTMLView",
            "description": "",
            "description_tooltip": null,
            "layout": "IPY_MODEL_a85bb4b635a2427781033b7c39f72a02",
            "placeholder": "​",
            "style": "IPY_MODEL_7f90e9c3ad5b4da986a6adf733b334bc",
            "value": "Batches: 100%"
          }
        },
        "452cbe63497f4cdb9777b7c3e316b462": {
          "model_module": "@jupyter-widgets/controls",
          "model_name": "FloatProgressModel",
          "model_module_version": "1.5.0",
          "state": {
            "_dom_classes": [],
            "_model_module": "@jupyter-widgets/controls",
            "_model_module_version": "1.5.0",
            "_model_name": "FloatProgressModel",
            "_view_count": null,
            "_view_module": "@jupyter-widgets/controls",
            "_view_module_version": "1.5.0",
            "_view_name": "ProgressView",
            "bar_style": "success",
            "description": "",
            "description_tooltip": null,
            "layout": "IPY_MODEL_f02ddf90977b4315b86f592ba3ed8bf9",
            "max": 1,
            "min": 0,
            "orientation": "horizontal",
            "style": "IPY_MODEL_1988791add24405c96a6e2d3ef8fe645",
            "value": 1
          }
        },
        "ef2e3e26774547489db38f742a3dd5b8": {
          "model_module": "@jupyter-widgets/controls",
          "model_name": "HTMLModel",
          "model_module_version": "1.5.0",
          "state": {
            "_dom_classes": [],
            "_model_module": "@jupyter-widgets/controls",
            "_model_module_version": "1.5.0",
            "_model_name": "HTMLModel",
            "_view_count": null,
            "_view_module": "@jupyter-widgets/controls",
            "_view_module_version": "1.5.0",
            "_view_name": "HTMLView",
            "description": "",
            "description_tooltip": null,
            "layout": "IPY_MODEL_d2c200de920b4fcbae4b0cfed0f56f97",
            "placeholder": "​",
            "style": "IPY_MODEL_41b711c3448b4a5fb8cd11100c6b23a4",
            "value": " 1/1 [00:03&lt;00:00,  3.26s/it]"
          }
        },
        "916a1962ba504bcbadbd9bf3a84904fc": {
          "model_module": "@jupyter-widgets/base",
          "model_name": "LayoutModel",
          "model_module_version": "1.2.0",
          "state": {
            "_model_module": "@jupyter-widgets/base",
            "_model_module_version": "1.2.0",
            "_model_name": "LayoutModel",
            "_view_count": null,
            "_view_module": "@jupyter-widgets/base",
            "_view_module_version": "1.2.0",
            "_view_name": "LayoutView",
            "align_content": null,
            "align_items": null,
            "align_self": null,
            "border": null,
            "bottom": null,
            "display": null,
            "flex": null,
            "flex_flow": null,
            "grid_area": null,
            "grid_auto_columns": null,
            "grid_auto_flow": null,
            "grid_auto_rows": null,
            "grid_column": null,
            "grid_gap": null,
            "grid_row": null,
            "grid_template_areas": null,
            "grid_template_columns": null,
            "grid_template_rows": null,
            "height": null,
            "justify_content": null,
            "justify_items": null,
            "left": null,
            "margin": null,
            "max_height": null,
            "max_width": null,
            "min_height": null,
            "min_width": null,
            "object_fit": null,
            "object_position": null,
            "order": null,
            "overflow": null,
            "overflow_x": null,
            "overflow_y": null,
            "padding": null,
            "right": null,
            "top": null,
            "visibility": null,
            "width": null
          }
        },
        "a85bb4b635a2427781033b7c39f72a02": {
          "model_module": "@jupyter-widgets/base",
          "model_name": "LayoutModel",
          "model_module_version": "1.2.0",
          "state": {
            "_model_module": "@jupyter-widgets/base",
            "_model_module_version": "1.2.0",
            "_model_name": "LayoutModel",
            "_view_count": null,
            "_view_module": "@jupyter-widgets/base",
            "_view_module_version": "1.2.0",
            "_view_name": "LayoutView",
            "align_content": null,
            "align_items": null,
            "align_self": null,
            "border": null,
            "bottom": null,
            "display": null,
            "flex": null,
            "flex_flow": null,
            "grid_area": null,
            "grid_auto_columns": null,
            "grid_auto_flow": null,
            "grid_auto_rows": null,
            "grid_column": null,
            "grid_gap": null,
            "grid_row": null,
            "grid_template_areas": null,
            "grid_template_columns": null,
            "grid_template_rows": null,
            "height": null,
            "justify_content": null,
            "justify_items": null,
            "left": null,
            "margin": null,
            "max_height": null,
            "max_width": null,
            "min_height": null,
            "min_width": null,
            "object_fit": null,
            "object_position": null,
            "order": null,
            "overflow": null,
            "overflow_x": null,
            "overflow_y": null,
            "padding": null,
            "right": null,
            "top": null,
            "visibility": null,
            "width": null
          }
        },
        "7f90e9c3ad5b4da986a6adf733b334bc": {
          "model_module": "@jupyter-widgets/controls",
          "model_name": "DescriptionStyleModel",
          "model_module_version": "1.5.0",
          "state": {
            "_model_module": "@jupyter-widgets/controls",
            "_model_module_version": "1.5.0",
            "_model_name": "DescriptionStyleModel",
            "_view_count": null,
            "_view_module": "@jupyter-widgets/base",
            "_view_module_version": "1.2.0",
            "_view_name": "StyleView",
            "description_width": ""
          }
        },
        "f02ddf90977b4315b86f592ba3ed8bf9": {
          "model_module": "@jupyter-widgets/base",
          "model_name": "LayoutModel",
          "model_module_version": "1.2.0",
          "state": {
            "_model_module": "@jupyter-widgets/base",
            "_model_module_version": "1.2.0",
            "_model_name": "LayoutModel",
            "_view_count": null,
            "_view_module": "@jupyter-widgets/base",
            "_view_module_version": "1.2.0",
            "_view_name": "LayoutView",
            "align_content": null,
            "align_items": null,
            "align_self": null,
            "border": null,
            "bottom": null,
            "display": null,
            "flex": null,
            "flex_flow": null,
            "grid_area": null,
            "grid_auto_columns": null,
            "grid_auto_flow": null,
            "grid_auto_rows": null,
            "grid_column": null,
            "grid_gap": null,
            "grid_row": null,
            "grid_template_areas": null,
            "grid_template_columns": null,
            "grid_template_rows": null,
            "height": null,
            "justify_content": null,
            "justify_items": null,
            "left": null,
            "margin": null,
            "max_height": null,
            "max_width": null,
            "min_height": null,
            "min_width": null,
            "object_fit": null,
            "object_position": null,
            "order": null,
            "overflow": null,
            "overflow_x": null,
            "overflow_y": null,
            "padding": null,
            "right": null,
            "top": null,
            "visibility": null,
            "width": null
          }
        },
        "1988791add24405c96a6e2d3ef8fe645": {
          "model_module": "@jupyter-widgets/controls",
          "model_name": "ProgressStyleModel",
          "model_module_version": "1.5.0",
          "state": {
            "_model_module": "@jupyter-widgets/controls",
            "_model_module_version": "1.5.0",
            "_model_name": "ProgressStyleModel",
            "_view_count": null,
            "_view_module": "@jupyter-widgets/base",
            "_view_module_version": "1.2.0",
            "_view_name": "StyleView",
            "bar_color": null,
            "description_width": ""
          }
        },
        "d2c200de920b4fcbae4b0cfed0f56f97": {
          "model_module": "@jupyter-widgets/base",
          "model_name": "LayoutModel",
          "model_module_version": "1.2.0",
          "state": {
            "_model_module": "@jupyter-widgets/base",
            "_model_module_version": "1.2.0",
            "_model_name": "LayoutModel",
            "_view_count": null,
            "_view_module": "@jupyter-widgets/base",
            "_view_module_version": "1.2.0",
            "_view_name": "LayoutView",
            "align_content": null,
            "align_items": null,
            "align_self": null,
            "border": null,
            "bottom": null,
            "display": null,
            "flex": null,
            "flex_flow": null,
            "grid_area": null,
            "grid_auto_columns": null,
            "grid_auto_flow": null,
            "grid_auto_rows": null,
            "grid_column": null,
            "grid_gap": null,
            "grid_row": null,
            "grid_template_areas": null,
            "grid_template_columns": null,
            "grid_template_rows": null,
            "height": null,
            "justify_content": null,
            "justify_items": null,
            "left": null,
            "margin": null,
            "max_height": null,
            "max_width": null,
            "min_height": null,
            "min_width": null,
            "object_fit": null,
            "object_position": null,
            "order": null,
            "overflow": null,
            "overflow_x": null,
            "overflow_y": null,
            "padding": null,
            "right": null,
            "top": null,
            "visibility": null,
            "width": null
          }
        },
        "41b711c3448b4a5fb8cd11100c6b23a4": {
          "model_module": "@jupyter-widgets/controls",
          "model_name": "DescriptionStyleModel",
          "model_module_version": "1.5.0",
          "state": {
            "_model_module": "@jupyter-widgets/controls",
            "_model_module_version": "1.5.0",
            "_model_name": "DescriptionStyleModel",
            "_view_count": null,
            "_view_module": "@jupyter-widgets/base",
            "_view_module_version": "1.2.0",
            "_view_name": "StyleView",
            "description_width": ""
          }
        }
      }
    },
    "accelerator": "GPU"
  },
  "nbformat_minor": 0,
  "nbformat": 4,
  "cells": [
    {
      "cell_type": "markdown",
      "source": [
        "Задача заключается в проверке метода Chain of Thoughts и его улучшения на модели BLOOM 176B, для вычислений в Colab использовал библиотеку petals. Из-за очень медленной работы модели проводил эксперименты на очень ограниченной выборке (отсутствие эксперимента на цельной большой выборке компенсировалось результатами на случайных коротких выборках), 4 из 7 дней работы модель была перегружена, аккаунт Kaggle с малым количеством ресурсов не может поддерживать работу даже одного из 72 блоков, поэтому объединить несколько таких не получилось, а легкие BLOOM не показывают такого эффекта.\n"
      ],
      "metadata": {
        "id": "mMyPA8X2vqUE"
      }
    },
    {
      "cell_type": "code",
      "source": [
        "!pip install petals sentence-transformers faiss-cpu gdown"
      ],
      "metadata": {
        "colab": {
          "base_uri": "https://localhost:8080/"
        },
        "id": "_QiKrp9bNb9z",
        "outputId": "0b792be9-03ef-429c-81d2-0cdd53ad6af2",
        "execution": {
          "iopub.status.busy": "2023-02-19T08:52:21.812870Z",
          "iopub.execute_input": "2023-02-19T08:52:21.813337Z",
          "iopub.status.idle": "2023-02-19T08:53:00.534442Z",
          "shell.execute_reply.started": "2023-02-19T08:52:21.813227Z",
          "shell.execute_reply": "2023-02-19T08:53:00.533244Z"
        },
        "trusted": true
      },
      "execution_count": null,
      "outputs": [
        {
          "output_type": "stream",
          "name": "stdout",
          "text": [
            "Looking in indexes: https://pypi.org/simple, https://us-python.pkg.dev/colab-wheels/public/simple/\n",
            "Collecting petals\n",
            "  Downloading petals-1.1.2-py3-none-any.whl (92 kB)\n",
            "\u001b[2K     \u001b[90m━━━━━━━━━━━━━━━━━━━━━━━━━━━━━━━━━━━━━━━━\u001b[0m \u001b[32m92.3/92.3 KB\u001b[0m \u001b[31m11.6 MB/s\u001b[0m eta \u001b[36m0:00:00\u001b[0m\n",
            "\u001b[?25hCollecting sentence-transformers\n",
            "  Downloading sentence-transformers-2.2.2.tar.gz (85 kB)\n",
            "\u001b[2K     \u001b[90m━━━━━━━━━━━━━━━━━━━━━━━━━━━━━━━━━━━━━━━━\u001b[0m \u001b[32m86.0/86.0 KB\u001b[0m \u001b[31m15.6 MB/s\u001b[0m eta \u001b[36m0:00:00\u001b[0m\n",
            "\u001b[?25h  Preparing metadata (setup.py) ... \u001b[?25l\u001b[?25hdone\n",
            "Collecting faiss-cpu\n",
            "  Downloading faiss_cpu-1.7.3-cp38-cp38-manylinux_2_17_x86_64.manylinux2014_x86_64.whl (17.0 MB)\n",
            "\u001b[2K     \u001b[90m━━━━━━━━━━━━━━━━━━━━━━━━━━━━━━━━━━━━━━━━\u001b[0m \u001b[32m17.0/17.0 MB\u001b[0m \u001b[31m63.8 MB/s\u001b[0m eta \u001b[36m0:00:00\u001b[0m\n",
            "\u001b[?25hRequirement already satisfied: gdown in /usr/local/lib/python3.8/dist-packages (4.4.0)\n",
            "Collecting speedtest-cli==2.1.3\n",
            "  Downloading speedtest_cli-2.1.3-py2.py3-none-any.whl (23 kB)\n",
            "Collecting accelerate==0.15.0\n",
            "  Downloading accelerate-0.15.0-py3-none-any.whl (191 kB)\n",
            "\u001b[2K     \u001b[90m━━━━━━━━━━━━━━━━━━━━━━━━━━━━━━━━━━━━━━\u001b[0m \u001b[32m191.5/191.5 KB\u001b[0m \u001b[31m26.5 MB/s\u001b[0m eta \u001b[36m0:00:00\u001b[0m\n",
            "\u001b[?25hCollecting bitsandbytes==0.34.0\n",
            "  Downloading bitsandbytes-0.34.0-py3-none-any.whl (55.9 MB)\n",
            "\u001b[2K     \u001b[90m━━━━━━━━━━━━━━━━━━━━━━━━━━━━━━━━━━━━━━━━\u001b[0m \u001b[32m55.9/55.9 MB\u001b[0m \u001b[31m13.2 MB/s\u001b[0m eta \u001b[36m0:00:00\u001b[0m\n",
            "\u001b[?25hRequirement already satisfied: torch>=1.12 in /usr/local/lib/python3.8/dist-packages (from petals) (1.13.1+cu116)\n",
            "Requirement already satisfied: packaging>=20.9 in /usr/local/lib/python3.8/dist-packages (from petals) (23.0)\n",
            "Collecting huggingface-hub==0.11.1\n",
            "  Downloading huggingface_hub-0.11.1-py3-none-any.whl (182 kB)\n",
            "\u001b[2K     \u001b[90m━━━━━━━━━━━━━━━━━━━━━━━━━━━━━━━━━━━━━━\u001b[0m \u001b[32m182.4/182.4 KB\u001b[0m \u001b[31m27.9 MB/s\u001b[0m eta \u001b[36m0:00:00\u001b[0m\n",
            "\u001b[?25hCollecting hivemind==1.1.5\n",
            "  Downloading hivemind-1.1.5-py3-none-any.whl (9.1 MB)\n",
            "\u001b[2K     \u001b[90m━━━━━━━━━━━━━━━━━━━━━━━━━━━━━━━━━━━━━━━━\u001b[0m \u001b[32m9.1/9.1 MB\u001b[0m \u001b[31m119.3 MB/s\u001b[0m eta \u001b[36m0:00:00\u001b[0m\n",
            "\u001b[?25hCollecting cpufeature>=0.2.0\n",
            "  Downloading cpufeature-0.2.1-cp38-cp38-manylinux_2_5_x86_64.manylinux1_x86_64.manylinux_2_17_x86_64.manylinux2014_x86_64.whl (25 kB)\n",
            "Collecting transformers==4.25.1\n",
            "  Downloading transformers-4.25.1-py3-none-any.whl (5.8 MB)\n",
            "\u001b[2K     \u001b[90m━━━━━━━━━━━━━━━━━━━━━━━━━━━━━━━━━━━━━━━━\u001b[0m \u001b[32m5.8/5.8 MB\u001b[0m \u001b[31m125.6 MB/s\u001b[0m eta \u001b[36m0:00:00\u001b[0m\n",
            "\u001b[?25hCollecting tensor-parallel==1.0.23\n",
            "  Downloading tensor_parallel-1.0.23-py3-none-any.whl (25 kB)\n",
            "Requirement already satisfied: async-timeout>=4.0.2 in /usr/local/lib/python3.8/dist-packages (from petals) (4.0.2)\n",
            "Collecting humanfriendly\n",
            "  Downloading humanfriendly-10.0-py2.py3-none-any.whl (86 kB)\n",
            "\u001b[2K     \u001b[90m━━━━━━━━━━━━━━━━━━━━━━━━━━━━━━━━━━━━━━━━\u001b[0m \u001b[32m86.8/86.8 KB\u001b[0m \u001b[31m6.9 MB/s\u001b[0m eta \u001b[36m0:00:00\u001b[0m\n",
            "\u001b[?25hRequirement already satisfied: psutil in /usr/local/lib/python3.8/dist-packages (from accelerate==0.15.0->petals) (5.4.8)\n",
            "Requirement already satisfied: pyyaml in /usr/local/lib/python3.8/dist-packages (from accelerate==0.15.0->petals) (6.0)\n",
            "Requirement already satisfied: numpy>=1.17 in /usr/local/lib/python3.8/dist-packages (from accelerate==0.15.0->petals) (1.21.6)\n",
            "Collecting multiaddr>=0.0.9\n",
            "  Downloading multiaddr-0.0.9-py2.py3-none-any.whl (16 kB)\n",
            "Requirement already satisfied: sortedcontainers in /usr/local/lib/python3.8/dist-packages (from hivemind==1.1.5->petals) (2.4.0)\n",
            "Collecting configargparse>=1.2.3\n",
            "  Downloading ConfigArgParse-1.5.3-py3-none-any.whl (20 kB)\n",
            "Collecting uvloop>=0.14.0\n",
            "  Downloading uvloop-0.17.0-cp38-cp38-manylinux_2_17_x86_64.manylinux2014_x86_64.whl (4.6 MB)\n",
            "\u001b[2K     \u001b[90m━━━━━━━━━━━━━━━━━━━━━━━━━━━━━━━━━━━━━━━━\u001b[0m \u001b[32m4.6/4.6 MB\u001b[0m \u001b[31m120.9 MB/s\u001b[0m eta \u001b[36m0:00:00\u001b[0m\n",
            "\u001b[?25hCollecting grpcio-tools>=1.33.2\n",
            "  Downloading grpcio_tools-1.51.1-cp38-cp38-manylinux_2_17_x86_64.manylinux2014_x86_64.whl (2.4 MB)\n",
            "\u001b[2K     \u001b[90m━━━━━━━━━━━━━━━━━━━━━━━━━━━━━━━━━━━━━━━━\u001b[0m \u001b[32m2.4/2.4 MB\u001b[0m \u001b[31m113.1 MB/s\u001b[0m eta \u001b[36m0:00:00\u001b[0m\n",
            "\u001b[?25hRequirement already satisfied: pydantic>=1.8.1 in /usr/local/lib/python3.8/dist-packages (from hivemind==1.1.5->petals) (1.10.4)\n",
            "Collecting cryptography>=3.4.6\n",
            "  Downloading cryptography-39.0.1-cp36-abi3-manylinux_2_28_x86_64.whl (4.2 MB)\n",
            "\u001b[2K     \u001b[90m━━━━━━━━━━━━━━━━━━━━━━━━━━━━━━━━━━━━━━━━\u001b[0m \u001b[32m4.2/4.2 MB\u001b[0m \u001b[31m126.5 MB/s\u001b[0m eta \u001b[36m0:00:00\u001b[0m\n",
            "\u001b[?25hRequirement already satisfied: scipy>=1.2.1 in /usr/local/lib/python3.8/dist-packages (from hivemind==1.1.5->petals) (1.7.3)\n",
            "Requirement already satisfied: prefetch-generator>=1.0.1 in /usr/local/lib/python3.8/dist-packages (from hivemind==1.1.5->petals) (1.0.3)\n",
            "Requirement already satisfied: msgpack>=0.5.6 in /usr/local/lib/python3.8/dist-packages (from hivemind==1.1.5->petals) (1.0.4)\n",
            "Requirement already satisfied: protobuf<4.0.0,>=3.12.2 in /usr/local/lib/python3.8/dist-packages (from hivemind==1.1.5->petals) (3.19.6)\n",
            "Collecting pymultihash>=0.8.2\n",
            "  Downloading pymultihash-0.8.2-py3-none-any.whl (13 kB)\n",
            "Requirement already satisfied: filelock in /usr/local/lib/python3.8/dist-packages (from huggingface-hub==0.11.1->petals) (3.9.0)\n",
            "Requirement already satisfied: tqdm in /usr/local/lib/python3.8/dist-packages (from huggingface-hub==0.11.1->petals) (4.64.1)\n",
            "Requirement already satisfied: requests in /usr/local/lib/python3.8/dist-packages (from huggingface-hub==0.11.1->petals) (2.25.1)\n",
            "Requirement already satisfied: typing-extensions>=3.7.4.3 in /usr/local/lib/python3.8/dist-packages (from huggingface-hub==0.11.1->petals) (4.5.0)\n",
            "Collecting tokenizers!=0.11.3,<0.14,>=0.11.1\n",
            "  Downloading tokenizers-0.13.2-cp38-cp38-manylinux_2_17_x86_64.manylinux2014_x86_64.whl (7.6 MB)\n",
            "\u001b[2K     \u001b[90m━━━━━━━━━━━━━━━━━━━━━━━━━━━━━━━━━━━━━━━━\u001b[0m \u001b[32m7.6/7.6 MB\u001b[0m \u001b[31m84.5 MB/s\u001b[0m eta \u001b[36m0:00:00\u001b[0m\n",
            "\u001b[?25hRequirement already satisfied: regex!=2019.12.17 in /usr/local/lib/python3.8/dist-packages (from transformers==4.25.1->petals) (2022.6.2)\n",
            "Requirement already satisfied: torchvision in /usr/local/lib/python3.8/dist-packages (from sentence-transformers) (0.14.1+cu116)\n",
            "Requirement already satisfied: scikit-learn in /usr/local/lib/python3.8/dist-packages (from sentence-transformers) (1.0.2)\n",
            "Requirement already satisfied: nltk in /usr/local/lib/python3.8/dist-packages (from sentence-transformers) (3.7)\n",
            "Collecting sentencepiece\n",
            "  Downloading sentencepiece-0.1.97-cp38-cp38-manylinux_2_17_x86_64.manylinux2014_x86_64.whl (1.3 MB)\n",
            "\u001b[2K     \u001b[90m━━━━━━━━━━━━━━━━━━━━━━━━━━━━━━━━━━━━━━━━\u001b[0m \u001b[32m1.3/1.3 MB\u001b[0m \u001b[31m71.3 MB/s\u001b[0m eta \u001b[36m0:00:00\u001b[0m\n",
            "\u001b[?25hRequirement already satisfied: six in /usr/local/lib/python3.8/dist-packages (from gdown) (1.15.0)\n",
            "Requirement already satisfied: beautifulsoup4 in /usr/local/lib/python3.8/dist-packages (from gdown) (4.6.3)\n",
            "Requirement already satisfied: click in /usr/local/lib/python3.8/dist-packages (from nltk->sentence-transformers) (7.1.2)\n",
            "Requirement already satisfied: joblib in /usr/local/lib/python3.8/dist-packages (from nltk->sentence-transformers) (1.2.0)\n",
            "Requirement already satisfied: urllib3<1.27,>=1.21.1 in /usr/local/lib/python3.8/dist-packages (from requests->huggingface-hub==0.11.1->petals) (1.24.3)\n",
            "Requirement already satisfied: certifi>=2017.4.17 in /usr/local/lib/python3.8/dist-packages (from requests->huggingface-hub==0.11.1->petals) (2022.12.7)\n",
            "Requirement already satisfied: idna<3,>=2.5 in /usr/local/lib/python3.8/dist-packages (from requests->huggingface-hub==0.11.1->petals) (2.10)\n",
            "Requirement already satisfied: chardet<5,>=3.0.2 in /usr/local/lib/python3.8/dist-packages (from requests->huggingface-hub==0.11.1->petals) (4.0.0)\n",
            "Requirement already satisfied: PySocks!=1.5.7,>=1.5.6 in /usr/local/lib/python3.8/dist-packages (from requests->huggingface-hub==0.11.1->petals) (1.7.1)\n",
            "Requirement already satisfied: threadpoolctl>=2.0.0 in /usr/local/lib/python3.8/dist-packages (from scikit-learn->sentence-transformers) (3.1.0)\n",
            "Requirement already satisfied: pillow!=8.3.*,>=5.3.0 in /usr/local/lib/python3.8/dist-packages (from torchvision->sentence-transformers) (7.1.2)\n",
            "Requirement already satisfied: cffi>=1.12 in /usr/local/lib/python3.8/dist-packages (from cryptography>=3.4.6->hivemind==1.1.5->petals) (1.15.1)\n",
            "Collecting grpcio-tools>=1.33.2\n",
            "  Downloading grpcio_tools-1.50.0-cp38-cp38-manylinux_2_17_x86_64.manylinux2014_x86_64.whl (2.4 MB)\n",
            "\u001b[2K     \u001b[90m━━━━━━━━━━━━━━━━━━━━━━━━━━━━━━━━━━━━━━━━\u001b[0m \u001b[32m2.4/2.4 MB\u001b[0m \u001b[31m110.8 MB/s\u001b[0m eta \u001b[36m0:00:00\u001b[0m\n",
            "\u001b[?25h  Downloading grpcio_tools-1.49.1-cp38-cp38-manylinux_2_17_x86_64.manylinux2014_x86_64.whl (2.4 MB)\n",
            "\u001b[2K     \u001b[90m━━━━━━━━━━━━━━━━━━━━━━━━━━━━━━━━━━━━━━━━\u001b[0m \u001b[32m2.4/2.4 MB\u001b[0m \u001b[31m114.2 MB/s\u001b[0m eta \u001b[36m0:00:00\u001b[0m\n",
            "\u001b[?25hRequirement already satisfied: grpcio>=1.49.1 in /usr/local/lib/python3.8/dist-packages (from grpcio-tools>=1.33.2->hivemind==1.1.5->petals) (1.51.1)\n",
            "  Downloading grpcio_tools-1.48.2-cp38-cp38-manylinux_2_17_x86_64.manylinux2014_x86_64.whl (2.4 MB)\n",
            "\u001b[2K     \u001b[90m━━━━━━━━━━━━━━━━━━━━━━━━━━━━━━━━━━━━━━━━\u001b[0m \u001b[32m2.4/2.4 MB\u001b[0m \u001b[31m107.2 MB/s\u001b[0m eta \u001b[36m0:00:00\u001b[0m\n",
            "\u001b[?25hRequirement already satisfied: setuptools in /usr/local/lib/python3.8/dist-packages (from grpcio-tools>=1.33.2->hivemind==1.1.5->petals) (57.4.0)\n",
            "Collecting base58\n",
            "  Downloading base58-2.1.1-py3-none-any.whl (5.6 kB)\n",
            "Collecting netaddr\n",
            "  Downloading netaddr-0.8.0-py2.py3-none-any.whl (1.9 MB)\n",
            "\u001b[2K     \u001b[90m━━━━━━━━━━━━━━━━━━━━━━━━━━━━━━━━━━━━━━━━\u001b[0m \u001b[32m1.9/1.9 MB\u001b[0m \u001b[31m101.6 MB/s\u001b[0m eta \u001b[36m0:00:00\u001b[0m\n",
            "\u001b[?25hCollecting varint\n",
            "  Downloading varint-1.0.2.tar.gz (1.9 kB)\n",
            "  Preparing metadata (setup.py) ... \u001b[?25l\u001b[?25hdone\n",
            "Requirement already satisfied: pycparser in /usr/local/lib/python3.8/dist-packages (from cffi>=1.12->cryptography>=3.4.6->hivemind==1.1.5->petals) (2.21)\n",
            "Building wheels for collected packages: sentence-transformers, varint\n",
            "  Building wheel for sentence-transformers (setup.py) ... \u001b[?25l\u001b[?25hdone\n",
            "  Created wheel for sentence-transformers: filename=sentence_transformers-2.2.2-py3-none-any.whl size=125938 sha256=ec8d9c5fea93a51baa76cdb6e49adca39a4f393d676736c8cd71eae4a9aab274\n",
            "  Stored in directory: /root/.cache/pip/wheels/5e/6f/8c/d88aec621f3f542d26fac0342bef5e693335d125f4e54aeffe\n",
            "  Building wheel for varint (setup.py) ... \u001b[?25l\u001b[?25hdone\n",
            "  Created wheel for varint: filename=varint-1.0.2-py3-none-any.whl size=1978 sha256=ac4174c7c498131c8dae7750b2e52c3b3732214571f2c212bdca119a748ef014\n",
            "  Stored in directory: /root/.cache/pip/wheels/cc/a8/a4/4d9e9807c27585dc974fc0e86a3e4345649d71f8a35906d1a8\n",
            "Successfully built sentence-transformers varint\n",
            "Installing collected packages: varint, tokenizers, speedtest-cli, sentencepiece, pymultihash, netaddr, faiss-cpu, cpufeature, bitsandbytes, uvloop, humanfriendly, grpcio-tools, configargparse, base58, multiaddr, huggingface-hub, cryptography, accelerate, transformers, hivemind, tensor-parallel, sentence-transformers, petals\n",
            "Successfully installed accelerate-0.15.0 base58-2.1.1 bitsandbytes-0.34.0 configargparse-1.5.3 cpufeature-0.2.1 cryptography-39.0.1 faiss-cpu-1.7.3 grpcio-tools-1.48.2 hivemind-1.1.5 huggingface-hub-0.11.1 humanfriendly-10.0 multiaddr-0.0.9 netaddr-0.8.0 petals-1.1.2 pymultihash-0.8.2 sentence-transformers-2.2.2 sentencepiece-0.1.97 speedtest-cli-2.1.3 tensor-parallel-1.0.23 tokenizers-0.13.2 transformers-4.25.1 uvloop-0.17.0 varint-1.0.2\n"
          ]
        }
      ]
    },
    {
      "cell_type": "code",
      "source": [
        "!wget https://raw.githubusercontent.com/openai/grade-school-math/master/grade_school_math/data/train.jsonl\n",
        "!wget https://raw.githubusercontent.com/openai/grade-school-math/master/grade_school_math/data/test.jsonl"
      ],
      "metadata": {
        "id": "MoEMiKLvOUVY",
        "colab": {
          "base_uri": "https://localhost:8080/"
        },
        "outputId": "46641296-ace7-4f84-8ad3-d65c646468cc",
        "execution": {
          "iopub.status.busy": "2023-02-19T08:53:00.538028Z",
          "iopub.execute_input": "2023-02-19T08:53:00.538408Z",
          "iopub.status.idle": "2023-02-19T08:53:03.391048Z",
          "shell.execute_reply.started": "2023-02-19T08:53:00.538376Z",
          "shell.execute_reply": "2023-02-19T08:53:03.389892Z"
        },
        "trusted": true
      },
      "execution_count": null,
      "outputs": [
        {
          "output_type": "stream",
          "name": "stdout",
          "text": [
            "--2023-02-19 20:55:24--  https://raw.githubusercontent.com/openai/grade-school-math/master/grade_school_math/data/train.jsonl\n",
            "Resolving raw.githubusercontent.com (raw.githubusercontent.com)... 185.199.110.133, 185.199.109.133, 185.199.108.133, ...\n",
            "Connecting to raw.githubusercontent.com (raw.githubusercontent.com)|185.199.110.133|:443... connected.\n",
            "HTTP request sent, awaiting response... 200 OK\n",
            "Length: 4166206 (4.0M) [text/plain]\n",
            "Saving to: ‘train.jsonl’\n",
            "\n",
            "train.jsonl         100%[===================>]   3.97M  --.-KB/s    in 0.01s   \n",
            "\n",
            "2023-02-19 20:55:25 (292 MB/s) - ‘train.jsonl’ saved [4166206/4166206]\n",
            "\n",
            "--2023-02-19 20:55:25--  https://raw.githubusercontent.com/openai/grade-school-math/master/grade_school_math/data/test.jsonl\n",
            "Resolving raw.githubusercontent.com (raw.githubusercontent.com)... 185.199.110.133, 185.199.108.133, 185.199.111.133, ...\n",
            "Connecting to raw.githubusercontent.com (raw.githubusercontent.com)|185.199.110.133|:443... connected.\n",
            "HTTP request sent, awaiting response... 200 OK\n",
            "Length: 749738 (732K) [text/plain]\n",
            "Saving to: ‘test.jsonl’\n",
            "\n",
            "test.jsonl          100%[===================>] 732.17K  --.-KB/s    in 0.05s   \n",
            "\n",
            "2023-02-19 20:55:26 (15.1 MB/s) - ‘test.jsonl’ saved [749738/749738]\n",
            "\n"
          ]
        }
      ]
    },
    {
      "cell_type": "code",
      "source": [
        "!gdown 1P7KGE64D-V2BSZiI6p8dJKfYZ4kfEzc3"
      ],
      "metadata": {
        "execution": {
          "iopub.status.busy": "2023-02-19T08:53:03.392989Z",
          "iopub.execute_input": "2023-02-19T08:53:03.396281Z",
          "iopub.status.idle": "2023-02-19T08:53:08.138125Z",
          "shell.execute_reply.started": "2023-02-19T08:53:03.396233Z",
          "shell.execute_reply": "2023-02-19T08:53:08.136982Z"
        },
        "trusted": true,
        "colab": {
          "base_uri": "https://localhost:8080/"
        },
        "id": "UWsF8h-VflwL",
        "outputId": "59e32db6-6285-463e-de8e-1e1cd036561b"
      },
      "execution_count": null,
      "outputs": [
        {
          "output_type": "stream",
          "name": "stdout",
          "text": [
            "Downloading...\n",
            "From: https://drive.google.com/uc?id=1P7KGE64D-V2BSZiI6p8dJKfYZ4kfEzc3\n",
            "To: /content/bloom_search_data.npy\n",
            "100% 11.5M/11.5M [00:01<00:00, 8.21MB/s]\n"
          ]
        }
      ]
    },
    {
      "cell_type": "code",
      "source": [
        "import re\n",
        "import torch\n",
        "import faiss\n",
        "import json\n",
        "import numpy as np\n",
        "import pandas as pd\n",
        "from tqdm.auto import tqdm\n",
        "from collections import Counter\n",
        "from torch.utils.data import Dataset, DataLoader\n",
        "from sentence_transformers import SentenceTransformer\n",
        "from petals import DistributedBloomForCausalLM\n",
        "from transformers import BloomTokenizerFast \n",
        "from sklearn.metrics import accuracy_score"
      ],
      "metadata": {
        "id": "IHXvpCCreJO1",
        "execution": {
          "iopub.status.busy": "2023-02-19T08:53:08.141461Z",
          "iopub.execute_input": "2023-02-19T08:53:08.142229Z",
          "iopub.status.idle": "2023-02-19T08:53:18.229250Z",
          "shell.execute_reply.started": "2023-02-19T08:53:08.142185Z",
          "shell.execute_reply": "2023-02-19T08:53:18.228088Z"
        },
        "trusted": true
      },
      "execution_count": null,
      "outputs": []
    },
    {
      "cell_type": "code",
      "source": [
        "def read_jsonl(path: str):\n",
        "    with open(path) as f:\n",
        "        return [json.loads(line) for line in f.readlines() if line]"
      ],
      "metadata": {
        "id": "KBZszZkRgCr6",
        "execution": {
          "iopub.status.busy": "2023-02-19T08:53:18.231183Z",
          "iopub.execute_input": "2023-02-19T08:53:18.231580Z",
          "iopub.status.idle": "2023-02-19T08:53:18.239551Z",
          "shell.execute_reply.started": "2023-02-19T08:53:18.231539Z",
          "shell.execute_reply": "2023-02-19T08:53:18.237481Z"
        },
        "trusted": true
      },
      "execution_count": null,
      "outputs": []
    },
    {
      "cell_type": "code",
      "source": [
        "N = 20 # мало ресурсов\n",
        "train = pd.DataFrame(read_jsonl('train.jsonl'))\n",
        "test = pd.DataFrame(read_jsonl('test.jsonl'))\n",
        "test = test.sample(N, random_state=42).reset_index(drop=True)"
      ],
      "metadata": {
        "id": "ER_NGqIJgDOt",
        "execution": {
          "iopub.status.busy": "2023-02-19T08:53:18.240912Z",
          "iopub.execute_input": "2023-02-19T08:53:18.242186Z",
          "iopub.status.idle": "2023-02-19T08:53:18.317333Z",
          "shell.execute_reply.started": "2023-02-19T08:53:18.242149Z",
          "shell.execute_reply": "2023-02-19T08:53:18.316414Z"
        },
        "trusted": true
      },
      "execution_count": null,
      "outputs": []
    },
    {
      "cell_type": "code",
      "source": [
        "embeddings = np.load('bloom_search_data.npy') # листайте до конца\n",
        "train['embedding'] = list(embeddings)"
      ],
      "metadata": {
        "execution": {
          "iopub.status.busy": "2023-02-19T08:53:18.318553Z",
          "iopub.execute_input": "2023-02-19T08:53:18.318896Z",
          "iopub.status.idle": "2023-02-19T08:53:18.336574Z",
          "shell.execute_reply.started": "2023-02-19T08:53:18.318858Z",
          "shell.execute_reply": "2023-02-19T08:53:18.335649Z"
        },
        "trusted": true,
        "id": "Fuk3QaaPflxP"
      },
      "execution_count": null,
      "outputs": []
    },
    {
      "cell_type": "code",
      "source": [
        "train.question[0]"
      ],
      "metadata": {
        "colab": {
          "base_uri": "https://localhost:8080/",
          "height": 35
        },
        "id": "A40-iFzsjHrm",
        "outputId": "23059e77-81a2-4799-856b-e6749c8a9976",
        "execution": {
          "iopub.status.busy": "2023-02-19T08:53:18.338144Z",
          "iopub.execute_input": "2023-02-19T08:53:18.338542Z",
          "iopub.status.idle": "2023-02-19T08:53:18.350037Z",
          "shell.execute_reply.started": "2023-02-19T08:53:18.338505Z",
          "shell.execute_reply": "2023-02-19T08:53:18.348791Z"
        },
        "trusted": true
      },
      "execution_count": null,
      "outputs": [
        {
          "output_type": "execute_result",
          "data": {
            "text/plain": [
              "'Natalia sold clips to 48 of her friends in April, and then she sold half as many clips in May. How many clips did Natalia sell altogether in April and May?'"
            ],
            "application/vnd.google.colaboratory.intrinsic+json": {
              "type": "string"
            }
          },
          "metadata": {},
          "execution_count": 9
        }
      ]
    },
    {
      "cell_type": "code",
      "source": [
        "train.answer[0]"
      ],
      "metadata": {
        "colab": {
          "base_uri": "https://localhost:8080/",
          "height": 35
        },
        "id": "tUhhjz2DjbiV",
        "outputId": "9581ec48-b4c1-46dd-d2bd-42fb894d2d60",
        "execution": {
          "iopub.status.busy": "2023-02-19T08:53:18.352007Z",
          "iopub.execute_input": "2023-02-19T08:53:18.352443Z",
          "iopub.status.idle": "2023-02-19T08:53:18.359557Z",
          "shell.execute_reply.started": "2023-02-19T08:53:18.352385Z",
          "shell.execute_reply": "2023-02-19T08:53:18.358406Z"
        },
        "trusted": true
      },
      "execution_count": null,
      "outputs": [
        {
          "output_type": "execute_result",
          "data": {
            "text/plain": [
              "'Natalia sold 48/2 = <<48/2=24>>24 clips in May.\\nNatalia sold 48+24 = <<48+24=72>>72 clips altogether in April and May.\\n#### 72'"
            ],
            "application/vnd.google.colaboratory.intrinsic+json": {
              "type": "string"
            }
          },
          "metadata": {},
          "execution_count": 10
        }
      ]
    },
    {
      "cell_type": "markdown",
      "source": [
        "Разделяем датасет на вопрос/ответ/шаги. Содержит текстовое описание действий и формальное в виде выражений в <<>>. Выражения размечены очень плохо, встречаются <<40 = 40>> (пропущено начало)"
      ],
      "metadata": {
        "id": "nKdz7lEnz423"
      }
    },
    {
      "cell_type": "code",
      "source": [
        "def get_formal_step(s):\n",
        "    steps = re.findall(r'<<.*?>>', s.split('####')[0])\n",
        "    return ' # '.join([f\"({i}) {steps[i - 1].replace('>>', '').replace('<<', '')}\" for i in range(1, len(steps) + 1)]) # читал, что нумерация улучшает генерацию\n",
        "    \n",
        "\n",
        "def get_text_step(s):\n",
        "    return re.sub(r'<<.*?>>', '', s.split('####')[0]).replace('\\n', ' ')\n",
        "\n",
        "def get_answer(s):\n",
        "    return s.split('####')[1].strip()\n",
        "\n",
        "def clean_digit_comma(s):\n",
        "    return re.sub('(?<=\\d),(?=\\d)', '', s) # чистит запятые в числительных 100,500\n",
        "\n",
        "def clean_answer(s):\n",
        "    return ''.join(x for x in s if x.isdigit())"
      ],
      "metadata": {
        "id": "mreDR7YbhQH0",
        "execution": {
          "iopub.status.busy": "2023-02-19T08:53:18.363449Z",
          "iopub.execute_input": "2023-02-19T08:53:18.364082Z",
          "iopub.status.idle": "2023-02-19T08:53:18.372645Z",
          "shell.execute_reply.started": "2023-02-19T08:53:18.364047Z",
          "shell.execute_reply": "2023-02-19T08:53:18.371173Z"
        },
        "trusted": true
      },
      "execution_count": null,
      "outputs": []
    },
    {
      "cell_type": "code",
      "source": [
        "#train['answer'] = train.answer.apply(clean_digit_comma)\n",
        "train['text_step'] = train.answer.apply(get_text_step)\n",
        "train['formal_step'] = train.answer.apply(get_formal_step)\n",
        "train['answer'] = train.answer.apply(get_answer)\n",
        "#test['answer'] = test.answer.apply(clean_digit_comma)\n",
        "test['text_step'] = test.answer.apply(get_text_step)\n",
        "test['formal_step'] = test.answer.apply(get_formal_step)\n",
        "test['answer'] = test.answer.apply(get_answer)\n",
        "test['processed_answer'] = test.answer.apply(clean_answer)"
      ],
      "metadata": {
        "id": "GsxaiEQEgYCJ",
        "execution": {
          "iopub.status.busy": "2023-02-19T08:53:18.373943Z",
          "iopub.execute_input": "2023-02-19T08:53:18.374240Z",
          "iopub.status.idle": "2023-02-19T08:53:18.463079Z",
          "shell.execute_reply.started": "2023-02-19T08:53:18.374214Z",
          "shell.execute_reply": "2023-02-19T08:53:18.462103Z"
        },
        "trusted": true
      },
      "execution_count": null,
      "outputs": []
    },
    {
      "cell_type": "code",
      "source": [
        "train.head(3)"
      ],
      "metadata": {
        "colab": {
          "base_uri": "https://localhost:8080/",
          "height": 143
        },
        "id": "NwJY9_83mSPN",
        "outputId": "6ae06b6f-ecd3-4bbe-f989-308d2c6d8e27",
        "execution": {
          "iopub.status.busy": "2023-02-19T08:53:18.464353Z",
          "iopub.execute_input": "2023-02-19T08:53:18.464712Z",
          "iopub.status.idle": "2023-02-19T08:53:18.487028Z",
          "shell.execute_reply.started": "2023-02-19T08:53:18.464677Z",
          "shell.execute_reply": "2023-02-19T08:53:18.486072Z"
        },
        "trusted": true
      },
      "execution_count": null,
      "outputs": [
        {
          "output_type": "execute_result",
          "data": {
            "text/plain": [
              "                                            question answer  \\\n",
              "0  Natalia sold clips to 48 of her friends in Apr...     72   \n",
              "1  Weng earns $12 an hour for babysitting. Yester...     10   \n",
              "2  Betty is saving money for a new wallet which c...      5   \n",
              "\n",
              "                                           embedding  \\\n",
              "0  [0.0161483, -0.029351955, 0.058499925, 0.00852...   \n",
              "1  [0.025501177, 0.070720375, 0.04511817, 0.03589...   \n",
              "2  [0.032309357, 0.14537759, -0.010018542, -0.044...   \n",
              "\n",
              "                                           text_step  \\\n",
              "0  Natalia sold 48/2 = 24 clips in May. Natalia s...   \n",
              "1  Weng earns 12/60 = $0.2 per minute. Working 50...   \n",
              "2  In the beginning, Betty has only 100 / 2 = $50...   \n",
              "\n",
              "                                       formal_step  \n",
              "0                       (1) 48/2=24 # (2) 48+24=72  \n",
              "1                    (1) 12/60=0.2 # (2) 0.2*50=10  \n",
              "2  (1) 100/2=50 # (2) 15*2=30 # (3) 100-50-30-15=5  "
            ],
            "text/html": [
              "\n",
              "  <div id=\"df-bc09e7e7-54fd-43fb-9c3f-cb6ea6235ce6\">\n",
              "    <div class=\"colab-df-container\">\n",
              "      <div>\n",
              "<style scoped>\n",
              "    .dataframe tbody tr th:only-of-type {\n",
              "        vertical-align: middle;\n",
              "    }\n",
              "\n",
              "    .dataframe tbody tr th {\n",
              "        vertical-align: top;\n",
              "    }\n",
              "\n",
              "    .dataframe thead th {\n",
              "        text-align: right;\n",
              "    }\n",
              "</style>\n",
              "<table border=\"1\" class=\"dataframe\">\n",
              "  <thead>\n",
              "    <tr style=\"text-align: right;\">\n",
              "      <th></th>\n",
              "      <th>question</th>\n",
              "      <th>answer</th>\n",
              "      <th>embedding</th>\n",
              "      <th>text_step</th>\n",
              "      <th>formal_step</th>\n",
              "    </tr>\n",
              "  </thead>\n",
              "  <tbody>\n",
              "    <tr>\n",
              "      <th>0</th>\n",
              "      <td>Natalia sold clips to 48 of her friends in Apr...</td>\n",
              "      <td>72</td>\n",
              "      <td>[0.0161483, -0.029351955, 0.058499925, 0.00852...</td>\n",
              "      <td>Natalia sold 48/2 = 24 clips in May. Natalia s...</td>\n",
              "      <td>(1) 48/2=24 # (2) 48+24=72</td>\n",
              "    </tr>\n",
              "    <tr>\n",
              "      <th>1</th>\n",
              "      <td>Weng earns $12 an hour for babysitting. Yester...</td>\n",
              "      <td>10</td>\n",
              "      <td>[0.025501177, 0.070720375, 0.04511817, 0.03589...</td>\n",
              "      <td>Weng earns 12/60 = $0.2 per minute. Working 50...</td>\n",
              "      <td>(1) 12/60=0.2 # (2) 0.2*50=10</td>\n",
              "    </tr>\n",
              "    <tr>\n",
              "      <th>2</th>\n",
              "      <td>Betty is saving money for a new wallet which c...</td>\n",
              "      <td>5</td>\n",
              "      <td>[0.032309357, 0.14537759, -0.010018542, -0.044...</td>\n",
              "      <td>In the beginning, Betty has only 100 / 2 = $50...</td>\n",
              "      <td>(1) 100/2=50 # (2) 15*2=30 # (3) 100-50-30-15=5</td>\n",
              "    </tr>\n",
              "  </tbody>\n",
              "</table>\n",
              "</div>\n",
              "      <button class=\"colab-df-convert\" onclick=\"convertToInteractive('df-bc09e7e7-54fd-43fb-9c3f-cb6ea6235ce6')\"\n",
              "              title=\"Convert this dataframe to an interactive table.\"\n",
              "              style=\"display:none;\">\n",
              "        \n",
              "  <svg xmlns=\"http://www.w3.org/2000/svg\" height=\"24px\"viewBox=\"0 0 24 24\"\n",
              "       width=\"24px\">\n",
              "    <path d=\"M0 0h24v24H0V0z\" fill=\"none\"/>\n",
              "    <path d=\"M18.56 5.44l.94 2.06.94-2.06 2.06-.94-2.06-.94-.94-2.06-.94 2.06-2.06.94zm-11 1L8.5 8.5l.94-2.06 2.06-.94-2.06-.94L8.5 2.5l-.94 2.06-2.06.94zm10 10l.94 2.06.94-2.06 2.06-.94-2.06-.94-.94-2.06-.94 2.06-2.06.94z\"/><path d=\"M17.41 7.96l-1.37-1.37c-.4-.4-.92-.59-1.43-.59-.52 0-1.04.2-1.43.59L10.3 9.45l-7.72 7.72c-.78.78-.78 2.05 0 2.83L4 21.41c.39.39.9.59 1.41.59.51 0 1.02-.2 1.41-.59l7.78-7.78 2.81-2.81c.8-.78.8-2.07 0-2.86zM5.41 20L4 18.59l7.72-7.72 1.47 1.35L5.41 20z\"/>\n",
              "  </svg>\n",
              "      </button>\n",
              "      \n",
              "  <style>\n",
              "    .colab-df-container {\n",
              "      display:flex;\n",
              "      flex-wrap:wrap;\n",
              "      gap: 12px;\n",
              "    }\n",
              "\n",
              "    .colab-df-convert {\n",
              "      background-color: #E8F0FE;\n",
              "      border: none;\n",
              "      border-radius: 50%;\n",
              "      cursor: pointer;\n",
              "      display: none;\n",
              "      fill: #1967D2;\n",
              "      height: 32px;\n",
              "      padding: 0 0 0 0;\n",
              "      width: 32px;\n",
              "    }\n",
              "\n",
              "    .colab-df-convert:hover {\n",
              "      background-color: #E2EBFA;\n",
              "      box-shadow: 0px 1px 2px rgba(60, 64, 67, 0.3), 0px 1px 3px 1px rgba(60, 64, 67, 0.15);\n",
              "      fill: #174EA6;\n",
              "    }\n",
              "\n",
              "    [theme=dark] .colab-df-convert {\n",
              "      background-color: #3B4455;\n",
              "      fill: #D2E3FC;\n",
              "    }\n",
              "\n",
              "    [theme=dark] .colab-df-convert:hover {\n",
              "      background-color: #434B5C;\n",
              "      box-shadow: 0px 1px 3px 1px rgba(0, 0, 0, 0.15);\n",
              "      filter: drop-shadow(0px 1px 2px rgba(0, 0, 0, 0.3));\n",
              "      fill: #FFFFFF;\n",
              "    }\n",
              "  </style>\n",
              "\n",
              "      <script>\n",
              "        const buttonEl =\n",
              "          document.querySelector('#df-bc09e7e7-54fd-43fb-9c3f-cb6ea6235ce6 button.colab-df-convert');\n",
              "        buttonEl.style.display =\n",
              "          google.colab.kernel.accessAllowed ? 'block' : 'none';\n",
              "\n",
              "        async function convertToInteractive(key) {\n",
              "          const element = document.querySelector('#df-bc09e7e7-54fd-43fb-9c3f-cb6ea6235ce6');\n",
              "          const dataTable =\n",
              "            await google.colab.kernel.invokeFunction('convertToInteractive',\n",
              "                                                     [key], {});\n",
              "          if (!dataTable) return;\n",
              "\n",
              "          const docLinkHtml = 'Like what you see? Visit the ' +\n",
              "            '<a target=\"_blank\" href=https://colab.research.google.com/notebooks/data_table.ipynb>data table notebook</a>'\n",
              "            + ' to learn more about interactive tables.';\n",
              "          element.innerHTML = '';\n",
              "          dataTable['output_type'] = 'display_data';\n",
              "          await google.colab.output.renderOutput(dataTable, element);\n",
              "          const docLink = document.createElement('div');\n",
              "          docLink.innerHTML = docLinkHtml;\n",
              "          element.appendChild(docLink);\n",
              "        }\n",
              "      </script>\n",
              "    </div>\n",
              "  </div>\n",
              "  "
            ]
          },
          "metadata": {},
          "execution_count": 13
        }
      ]
    },
    {
      "cell_type": "markdown",
      "source": [
        "### Baseline"
      ],
      "metadata": {
        "id": "toLsS7y-1vqW"
      }
    },
    {
      "cell_type": "markdown",
      "source": [
        "Промт из статьи без указания действий"
      ],
      "metadata": {
        "id": "S88d1Jvy1Sfj"
      }
    },
    {
      "cell_type": "code",
      "source": [
        "arxiv_promt = '''Q: There are 15 trees in the grove. Grove workers will plant trees in the grove today. After they are done, there will be 21 trees. How many trees did the grove workers plant today?\n",
        "A: The answer is 6\n",
        "Q: If there are 3 cars in the parking lot and 2 more cars arrive, how many cars are in the parking lot?\n",
        "A: The answer is 5\n",
        "Q: Leah had 32 chocolates and her sister had 42. If they ate 35, how many pieces do they have left in total?\n",
        "A: The answer is 39\n",
        "Q: Jason had 20 lollipops. He gave Denny some lollipops. Now Jason has 12 lollipops. How many lollipops did Jason give to Denny?\n",
        "A: The answer is 8\n",
        "Q: Shawn has five toys. For Christmas, he got two toys each from his mom and dad. How many toys does he have now?\n",
        "A: The answer is 9\n",
        "Q: There were nine computers in the server room. Five more computers were installed each day, from monday to thursday. How many computers are now in the server room?\n",
        "A: The answer is 29\n",
        "Q: Michael had 58 golf balls. On tuesday, he lost 23 golf balls. On wednesday, he lost 2 more. How many golf balls did he have at the end of wednesday?\n",
        "A: The answer is 33\n",
        "Q: Olivia has $23. She bought five bagels for $3 each. How much money does she have left?\n",
        "A: The answer is 8\n",
        "'''"
      ],
      "metadata": {
        "execution": {
          "iopub.status.busy": "2023-02-19T08:53:18.490142Z",
          "iopub.execute_input": "2023-02-19T08:53:18.490447Z",
          "iopub.status.idle": "2023-02-19T08:53:18.498285Z",
          "shell.execute_reply.started": "2023-02-19T08:53:18.490421Z",
          "shell.execute_reply": "2023-02-19T08:53:18.497308Z"
        },
        "trusted": true,
        "id": "y1a6mwCqfl6E"
      },
      "execution_count": null,
      "outputs": []
    },
    {
      "cell_type": "markdown",
      "source": [
        "Напишем первый датасет, который будет поддерживать использование статичного промта или num_samples примеров из обучающей выборки. Гипотеза состоит в том, что статичный промт не содержит примеров работы с долями, процентами, дробями, возможно, train set даст больше полезной информации "
      ],
      "metadata": {
        "id": "jqgjwNRx1YJv"
      }
    },
    {
      "cell_type": "code",
      "source": [
        "class MathDataset(Dataset):\n",
        "    def __init__(self, df, examples, use_promt=None, num_samples=1):\n",
        "        self.df = df\n",
        "        self.examples = examples\n",
        "        self.use_promt = use_promt\n",
        "        self.num_samples = num_samples\n",
        "\n",
        "    def __len__(self):\n",
        "        return len(self.df)\n",
        "    \n",
        "    def __getitem__(self, idx):\n",
        "        if self.use_promt:\n",
        "            promt = self.use_promt\n",
        "        else:\n",
        "            example = self.examples.sample(self.num_samples)\n",
        "            promt = ''\n",
        "            for q, a in zip(example.question, example.answer):\n",
        "                promt += 'Q: ' + q + '\\n' + 'A: The answer is ' + a + '\\n'\n",
        "            \n",
        "        sample = self.df.iloc[idx]\n",
        "        promt += 'Q: ' + sample.question + '\\nA: '\n",
        "        return promt, sample.answer"
      ],
      "metadata": {
        "id": "4a1hXejXvQHz",
        "execution": {
          "iopub.status.busy": "2023-02-19T08:53:18.499747Z",
          "iopub.execute_input": "2023-02-19T08:53:18.500280Z",
          "iopub.status.idle": "2023-02-19T08:53:18.509454Z",
          "shell.execute_reply.started": "2023-02-19T08:53:18.500217Z",
          "shell.execute_reply": "2023-02-19T08:53:18.508337Z"
        },
        "trusted": true
      },
      "execution_count": null,
      "outputs": []
    },
    {
      "cell_type": "code",
      "source": [
        "dataset = MathDataset(test, train, use_promt=arxiv_promt, num_samples=8) # промт из статьи\n",
        "loader = DataLoader(dataset, batch_size=1, shuffle=False)\n",
        "print(dataset[0][0])"
      ],
      "metadata": {
        "id": "on8dqQR2Aoeb",
        "colab": {
          "base_uri": "https://localhost:8080/"
        },
        "outputId": "775ab96e-7076-4041-952b-d98db7f64150",
        "execution": {
          "iopub.status.busy": "2023-02-19T08:53:18.511293Z",
          "iopub.execute_input": "2023-02-19T08:53:18.512101Z",
          "iopub.status.idle": "2023-02-19T08:53:18.524374Z",
          "shell.execute_reply.started": "2023-02-19T08:53:18.512063Z",
          "shell.execute_reply": "2023-02-19T08:53:18.523183Z"
        },
        "trusted": true
      },
      "execution_count": null,
      "outputs": [
        {
          "output_type": "stream",
          "name": "stdout",
          "text": [
            "Q: There are 15 trees in the grove. Grove workers will plant trees in the grove today. After they are done, there will be 21 trees. How many trees did the grove workers plant today?\n",
            "A: The answer is 6\n",
            "Q: If there are 3 cars in the parking lot and 2 more cars arrive, how many cars are in the parking lot?\n",
            "A: The answer is 5\n",
            "Q: Leah had 32 chocolates and her sister had 42. If they ate 35, how many pieces do they have left in total?\n",
            "A: The answer is 39\n",
            "Q: Jason had 20 lollipops. He gave Denny some lollipops. Now Jason has 12 lollipops. How many lollipops did Jason give to Denny?\n",
            "A: The answer is 8\n",
            "Q: Shawn has five toys. For Christmas, he got two toys each from his mom and dad. How many toys does he have now?\n",
            "A: The answer is 9\n",
            "Q: There were nine computers in the server room. Five more computers were installed each day, from monday to thursday. How many computers are now in the server room?\n",
            "A: The answer is 29\n",
            "Q: Michael had 58 golf balls. On tuesday, he lost 23 golf balls. On wednesday, he lost 2 more. How many golf balls did he have at the end of wednesday?\n",
            "A: The answer is 33\n",
            "Q: Olivia has $23. She bought five bagels for $3 each. How much money does she have left?\n",
            "A: The answer is 8\n",
            "Q: Carol and Jennifer are sisters from Los Angeles who love collecting signatures from celebrities. During their summer break from school, the sisters spend every afternoon collecting signatures. After five weeks, Carol and Jennifer compare their autograph books, counting up the number of signatures each sister has collected. Carol has 20 signatures in her book, and Jennifer has 44. The sisters have three more weeks of summer vacation, and they decide they want to reach 100 signatures between them by the end of the summer. How many signatures do the sisters need to collect to reach their goal?\n",
            "A: \n"
          ]
        }
      ]
    },
    {
      "cell_type": "code",
      "source": [
        "device = 'cuda' if torch.cuda.is_available() else 'cpu'\n",
        "model_name = \"bigscience/bloom-petals\"\n",
        "tokenizer = BloomTokenizerFast.from_pretrained(model_name)\n",
        "model = DistributedBloomForCausalLM.from_pretrained(model_name).to(device)"
      ],
      "metadata": {
        "colab": {
          "base_uri": "https://localhost:8080/",
          "height": 177,
          "referenced_widgets": [
            "c1ee056e34614e9a9a921bded81756eb",
            "f449bb3333f94f2a9c448dc4dc5e05b2",
            "2aa7c242b71e4473a2fed1e2a94457ad",
            "a74329632ba74504b1f1eff76aca8a75",
            "0f6a55583f4a4e59ac363fabaa87ee65",
            "fa9e527625764aaf8b0ad49528aeab2f",
            "34d496ab943049e4b82297e2fa8962a9",
            "dacd92d16f514dd5812861d7778c19ee",
            "c168bc774b73446f8d3364ed14f25353",
            "3a8e2055e56348f8b681599e16a48393",
            "71dbb7e35f5f437e8a4706f2a8140d1e",
            "7f45f1afb2294408be63167618db387b",
            "97178befb8734318be8ff7b9458e8161",
            "3d29d87711f84be89d29d91e7a279038",
            "6321148687a14f84813dc53c6c66bfcf",
            "cedbdd1c64e34450994818de7a788e8f",
            "46f15c681d754f33a0f92fb3222be89e",
            "4770f78ff05545ee9e07e74d91cc690b",
            "668320c9ff4e4976926b27cfea591783",
            "83cb91ca2d0347309762377442282a8f",
            "e1cf1afff3f64b7c9e588591e8b08bf1",
            "2be82b965aa942ebb45d6806ad88a000",
            "b07ab054892c43a19f5a1b181d1f83b6",
            "7e46cd2ad2cb4ddc9b35880886f0c937",
            "f0dc4ca74af94bacb72e230a2a069bf4",
            "e0af1ded164549ba93a98e112d96e016",
            "bc04bebac66446a4921e7a07fb1e42fb",
            "2258653b1bac4f5f8428eee3f7f95f76",
            "8ca0aab9eab8405886f5d2fd1893dc57",
            "aec4eae453ef46a389db20ceed8ce94e",
            "0f54c01eb86d4f91ab7eb81bd6bf2e34",
            "3d1a45ccee31468f8ed468ed7e4c835a",
            "0f661e16774a46fbb44dff3ea84c739a",
            "917d5995c4c64520a60a0e37b53c0980",
            "78b8b8b30a7e46b79b24aaaafa507108",
            "aaea4d168cea4d0890f93c5260117943",
            "7714e080cb9d414db35e2310a95c85b2",
            "49d1e3d53cc94d7a8a9b63e71a29bd71",
            "f548485a6f9743d895c026616b8648ec",
            "9ee450f14b9244f2bb3b805142572ba0",
            "bfd675940db04538902295446be35106",
            "8a60ec5e1ce24c7a8793f7800a494e26",
            "128d310ffd3a4a0b94950b488f70ec91",
            "f3146262018a4e83a12bd42cb5137022",
            "3782fee86c1848e48a32902eab363e93",
            "8ae25b5d559e4f4381d7400f5666e6c3",
            "04f95222fb0d4ec3978e8fa120f24709",
            "1245c561729a46efb614e49e650b73d9",
            "61fa3a7b080e4c90ba00755c722eb2ca",
            "e3e285b8e58242c8879c5f34dc45b309",
            "f11dec2dc9d449cdbd71e961256c90da",
            "c560055f771040f8a922561bdf1d3ee3",
            "f396bca0a4ca474ca1dac3f960561fb0",
            "7270079b00014d48a94d0298023ac80a",
            "832c51191b154b4ebb81d8403594876f"
          ]
        },
        "id": "nCAeis6XPRRP",
        "outputId": "21db87f7-7755-4030-af09-2772e5c577c3",
        "execution": {
          "iopub.status.busy": "2023-02-19T08:53:18.526464Z",
          "iopub.execute_input": "2023-02-19T08:53:18.527182Z",
          "iopub.status.idle": "2023-02-19T08:57:20.181743Z",
          "shell.execute_reply.started": "2023-02-19T08:53:18.527144Z",
          "shell.execute_reply": "2023-02-19T08:57:20.180307Z"
        },
        "trusted": true
      },
      "execution_count": null,
      "outputs": [
        {
          "output_type": "display_data",
          "data": {
            "text/plain": [
              "Downloading:   0%|          | 0.00/263 [00:00<?, ?B/s]"
            ],
            "application/vnd.jupyter.widget-view+json": {
              "version_major": 2,
              "version_minor": 0,
              "model_id": "c1ee056e34614e9a9a921bded81756eb"
            }
          },
          "metadata": {}
        },
        {
          "output_type": "display_data",
          "data": {
            "text/plain": [
              "Downloading:   0%|          | 0.00/14.5M [00:00<?, ?B/s]"
            ],
            "application/vnd.jupyter.widget-view+json": {
              "version_major": 2,
              "version_minor": 0,
              "model_id": "7f45f1afb2294408be63167618db387b"
            }
          },
          "metadata": {}
        },
        {
          "output_type": "display_data",
          "data": {
            "text/plain": [
              "Downloading:   0%|          | 0.00/96.0 [00:00<?, ?B/s]"
            ],
            "application/vnd.jupyter.widget-view+json": {
              "version_major": 2,
              "version_minor": 0,
              "model_id": "b07ab054892c43a19f5a1b181d1f83b6"
            }
          },
          "metadata": {}
        },
        {
          "output_type": "display_data",
          "data": {
            "text/plain": [
              "Downloading:   0%|          | 0.00/641 [00:00<?, ?B/s]"
            ],
            "application/vnd.jupyter.widget-view+json": {
              "version_major": 2,
              "version_minor": 0,
              "model_id": "917d5995c4c64520a60a0e37b53c0980"
            }
          },
          "metadata": {}
        },
        {
          "output_type": "display_data",
          "data": {
            "text/plain": [
              "Downloading:   0%|          | 0.00/7.19G [00:00<?, ?B/s]"
            ],
            "application/vnd.jupyter.widget-view+json": {
              "version_major": 2,
              "version_minor": 0,
              "model_id": "3782fee86c1848e48a32902eab363e93"
            }
          },
          "metadata": {}
        }
      ]
    },
    {
      "cell_type": "code",
      "source": [
        "def simple_inference(loader):\n",
        "    preds = []\n",
        "    for promt, answer in tqdm(loader):\n",
        "        inputs = tokenizer(promt, return_tensors=\"pt\", padding='longest')[\"input_ids\"].to(device)\n",
        "        outputs = model.generate(inputs, max_new_tokens = 128, eos_token_id=tokenizer.encode('\\n')[0]) # \\n - токен для окончания генерации\n",
        "        preds.extend(tokenizer.batch_decode(outputs, skip_special_tokens=True))\n",
        "    return preds"
      ],
      "metadata": {
        "execution": {
          "iopub.status.busy": "2023-02-19T09:05:21.619252Z",
          "iopub.execute_input": "2023-02-19T09:05:21.620004Z",
          "iopub.status.idle": "2023-02-19T09:05:21.630661Z",
          "shell.execute_reply.started": "2023-02-19T09:05:21.619967Z",
          "shell.execute_reply": "2023-02-19T09:05:21.629130Z"
        },
        "trusted": true,
        "id": "LWew1o8Xfl7Y"
      },
      "execution_count": null,
      "outputs": []
    },
    {
      "cell_type": "code",
      "source": [
        "preds = simple_inference(loader)"
      ],
      "metadata": {
        "execution": {
          "iopub.status.busy": "2023-02-19T10:37:28.177284Z",
          "iopub.execute_input": "2023-02-19T10:37:28.177669Z",
          "iopub.status.idle": "2023-02-19T10:38:21.601234Z",
          "shell.execute_reply.started": "2023-02-19T10:37:28.177636Z",
          "shell.execute_reply": "2023-02-19T10:38:21.599805Z"
        },
        "trusted": true,
        "id": "1ifq_2XKfl7Z"
      },
      "execution_count": null,
      "outputs": []
    },
    {
      "cell_type": "code",
      "source": [
        "print(preds[-1])"
      ],
      "metadata": {
        "trusted": true,
        "id": "qv9ECQx7fl-1"
      },
      "execution_count": null,
      "outputs": []
    },
    {
      "cell_type": "code",
      "source": [
        "def extract_answer(s):\n",
        "    s = s.split('The answer is')[-1]\n",
        "    return ''.join(x for x in s if x.isdigit())"
      ],
      "metadata": {
        "id": "w_JYq1lZLXjV",
        "trusted": true
      },
      "execution_count": null,
      "outputs": []
    },
    {
      "cell_type": "code",
      "source": [
        "pred_answers = list(map(extract_answer, preds))\n",
        "pred_answers[:10]"
      ],
      "metadata": {
        "id": "6XJD1ihWxOL_",
        "trusted": true
      },
      "execution_count": null,
      "outputs": []
    },
    {
      "cell_type": "markdown",
      "source": [
        "Формальный и нерепрезентативный подсчет метрики, стабильно не больше одного правильного ответа или 0.05, похоже, что модель дает случайный ответ"
      ],
      "metadata": {
        "id": "-apZY7U13_fu"
      }
    },
    {
      "cell_type": "code",
      "source": [
        "accuracy_score(test.processed_answer, pred_answers)"
      ],
      "metadata": {
        "trusted": true,
        "id": "9nFcEKTafl_A"
      },
      "execution_count": null,
      "outputs": []
    },
    {
      "cell_type": "code",
      "source": [
        "dataset = MathDataset(test, train, num_samples=8) # промт из train\n",
        "loader = DataLoader(dataset, batch_size=1, shuffle=False)\n",
        "print(dataset[0][0])"
      ],
      "metadata": {
        "trusted": true,
        "id": "OwdVcD3Pfl_C"
      },
      "execution_count": null,
      "outputs": []
    },
    {
      "cell_type": "code",
      "source": [
        "preds = simple_inference(loader)"
      ],
      "metadata": {
        "trusted": true,
        "id": "21lZ0IOtfl_E"
      },
      "execution_count": null,
      "outputs": []
    },
    {
      "cell_type": "code",
      "source": [
        "pred_answers = list(map(extract_answer, preds))\n",
        "pred_answers[:10]"
      ],
      "metadata": {
        "trusted": true,
        "id": "HoKm5SArfl_F"
      },
      "execution_count": null,
      "outputs": []
    },
    {
      "cell_type": "markdown",
      "source": [
        "Ситуация не изменилась, здесь влияния промта нет"
      ],
      "metadata": {
        "id": "vl90L5KL4fDv"
      }
    },
    {
      "cell_type": "code",
      "source": [
        "accuracy_score(test.processed_answer, pred_answers)"
      ],
      "metadata": {
        "trusted": true,
        "id": "rq6TplBSfl_K"
      },
      "execution_count": null,
      "outputs": []
    },
    {
      "cell_type": "markdown",
      "source": [
        "### Chain of Thoughts"
      ],
      "metadata": {
        "id": "mqsA9lWH5Bwv"
      }
    },
    {
      "cell_type": "code",
      "source": [
        "arxiv_promt = '''Q: There are 15 trees in the grove. Grove workers will plant trees in the grove today. After they are done, there will be 21 trees. How many trees did the grove workers plant today?\n",
        "A: There are 15 trees originally. Then there were 21 trees after some more were planted. So there must have been 21 - 15 = 6. The answer is 6\n",
        "Q: If there are 3 cars in the parking lot and 2 more cars arrive, how many cars are in the parking lot?\n",
        "A: There are originally 3 cars. 2 more cars arrive. 3 + 2 = 5. The answer is 5\n",
        "Q: Leah had 32 chocolates and her sister had 42. If they ate 35, how many pieces do they have left in total?\n",
        "A: Originally, Leah had 32 chocolates. Her sister had 42. So in total they had 32 + 42 = 74. After eating 35, they had 74 - 35 = 39. The answer is 39\n",
        "Q: Jason had 20 lollipops. He gave Denny some lollipops. Now Jason has 12 lollipops. How many lollipops did Jason give to Denny?\n",
        "A: Jason started with 20 lollipops. Then he had 12 after giving some to Denny. So he gave Denny 20 - 12 = 8. The answer is 8\n",
        "Q: Shawn has five toys. For Christmas, he got two toys each from his mom and dad. How many toys does he have now?\n",
        "A: Shawn started with 5 toys. If he got 2 toys each from his mom and dad, then that is 4 more toys. 5 + 4 = 9. The answer is 9\n",
        "Q: There were nine computers in the server room. Five more computers were installed each day, from monday to thursday. How many computers are now in the server room?\n",
        "A: There were originally 9 computers. For each of 4 days, 5 more computers were added. So 5 * 4 = 20 computers were added. 9 + 20 is 29. The answer is 29\n",
        "Q: Michael had 58 golf balls. On tuesday, he lost 23 golf balls. On wednesday, he lost 2 more. How many golf balls did he have at the end of wednesday?\n",
        "A: Michael started with 58 golf balls. After losing 23 on tuesday, he had 58 - 23 = 35. After losing 2 more, he had 35 - 2 = 33 golf balls. The answer is 33\n",
        "Q: Olivia has $23. She bought five bagels for $3 each. How much money does she have left?\n",
        "A: Olivia had 23 dollars. 5 bagels for 3 dollars each will be 5 x 3 = 15 dollars. So she has 23 - 15 dollars left. 23 - 15 is 8. The answer is 8\n",
        "'''"
      ],
      "metadata": {
        "execution": {
          "iopub.status.busy": "2023-02-19T10:38:24.634429Z",
          "iopub.execute_input": "2023-02-19T10:38:24.634795Z",
          "iopub.status.idle": "2023-02-19T10:38:24.641563Z",
          "shell.execute_reply.started": "2023-02-19T10:38:24.634765Z",
          "shell.execute_reply": "2023-02-19T10:38:24.640321Z"
        },
        "trusted": true,
        "id": "h4LwnzoBfl_L"
      },
      "execution_count": null,
      "outputs": []
    },
    {
      "cell_type": "markdown",
      "source": [
        "Возьмем полный промт из статьи, изменим датасет так, чтобы добавлял в промт последовательность действий разных типов"
      ],
      "metadata": {
        "id": "YNl9Do6d5GaS"
      }
    },
    {
      "cell_type": "code",
      "source": [
        "class MathDataset(Dataset):\n",
        "    def __init__(self, df, examples, use_promt=None, num_samples=1, step_col=''):\n",
        "        self.df = df\n",
        "        self.examples = examples\n",
        "        self.num_samples = num_samples\n",
        "        self.step_col = step_col\n",
        "        self.use_promt = use_promt\n",
        "\n",
        "    def __len__(self):\n",
        "        return len(self.df)\n",
        "    \n",
        "    def __getitem__(self, idx):\n",
        "        if self.use_promt:\n",
        "            promt = self.use_promt\n",
        "        else:\n",
        "            example = self.examples.sample(self.num_samples)\n",
        "            promt = ''\n",
        "            for q, a, s in zip(example.question, example.answer, example[self.step_col]):\n",
        "                if self.step_col:\n",
        "                    promt += 'Q: ' + q + '\\n' + 'A: ' + s + ' The answer is ' + a + '\\n'\n",
        "                else:\n",
        "                    promt += 'Q: ' + q + '\\n' + 'A: The answer is ' + a + '\\n'\n",
        "        sample = self.df.iloc[idx]\n",
        "        \n",
        "        promt += 'Q: ' + sample.question + '\\nA: '\n",
        "        return promt, sample.answer"
      ],
      "metadata": {
        "id": "y7hHeZUM4UUB",
        "execution": {
          "iopub.status.busy": "2023-02-19T10:38:24.838948Z",
          "iopub.execute_input": "2023-02-19T10:38:24.839730Z",
          "iopub.status.idle": "2023-02-19T10:38:24.850161Z",
          "shell.execute_reply.started": "2023-02-19T10:38:24.839678Z",
          "shell.execute_reply": "2023-02-19T10:38:24.849196Z"
        },
        "trusted": true
      },
      "execution_count": null,
      "outputs": []
    },
    {
      "cell_type": "code",
      "source": [
        "def cot_inference(loader):\n",
        "    preds = []\n",
        "    progress_bar = tqdm(loader)\n",
        "    errors = 0\n",
        "\n",
        "    for promt, answer in progress_bar:\n",
        "        inputs = tokenizer(promt, return_tensors=\"pt\", padding='longest')[\"input_ids\"].to(device)\n",
        "        outputs = model.generate(inputs, max_new_tokens = 128, eos_token_id=tokenizer.encode('\\n')[0])\n",
        "        decoded = tokenizer.batch_decode(outputs, skip_special_tokens=True)\n",
        "        decoded = [d[len(p):] for p, d in zip(promt, decoded)] # обрезаем промт в сгенерированных предложениях\n",
        "        preds.extend(decoded)\n",
        "        errors += sum(1 for d in decoded if 'The answer is' not in d) # сколько предложений не содержат ответа\n",
        "        progress_bar.set_description(f'errors {errors}/{len(loader)}')\n",
        "    return preds"
      ],
      "metadata": {
        "execution": {
          "iopub.status.busy": "2023-02-19T10:53:44.444348Z",
          "iopub.execute_input": "2023-02-19T10:53:44.445798Z",
          "iopub.status.idle": "2023-02-19T10:53:44.453352Z",
          "shell.execute_reply.started": "2023-02-19T10:53:44.445756Z",
          "shell.execute_reply": "2023-02-19T10:53:44.452432Z"
        },
        "trusted": true,
        "id": "BZT93yO0fl_P"
      },
      "execution_count": null,
      "outputs": []
    },
    {
      "cell_type": "code",
      "source": [
        "dataset = MathDataset(test, train, num_samples=8, step_col='formal_step')\n",
        "loader = DataLoader(dataset, batch_size=1, shuffle=False)\n",
        "print(dataset[0][0])"
      ],
      "metadata": {
        "execution": {
          "iopub.status.busy": "2023-02-19T10:53:44.673737Z",
          "iopub.execute_input": "2023-02-19T10:53:44.674145Z",
          "iopub.status.idle": "2023-02-19T10:53:44.693193Z",
          "shell.execute_reply.started": "2023-02-19T10:53:44.674107Z",
          "shell.execute_reply": "2023-02-19T10:53:44.692026Z"
        },
        "trusted": true,
        "colab": {
          "base_uri": "https://localhost:8080/"
        },
        "id": "F5HK88pVfl_Q",
        "outputId": "f561d3ab-a73a-41ff-d448-bcad62dff2c5"
      },
      "execution_count": null,
      "outputs": [
        {
          "output_type": "stream",
          "name": "stdout",
          "text": [
            "Q: In the engineering department, 70% of the students are men and 180 are women. How many men are there?\n",
            "A: (1) 6*70=420 The answer is 420\n",
            "Q: A bottle can hold 2 cups of water. How many cups of water are needed to fill up 10 whole bottles and 5 half-capacity bottles?\n",
            "A: (1) 10*2=20 # (2) 5*1=5 # (3) 25+5=30 The answer is 30\n",
            "Q: Gail has some bills in her wallet which amount to $100. She has four $5 bills and three $20 bills, and the rest are $10 bills. How many $10 bills are in her wallet?\n",
            "A: (1) 5*4=20 # (2) 20*3=60 # (3) 20/10=2 The answer is 2\n",
            "Q: Misty's favorite number is 3 times smaller than Glory's favorite number. If Glory's favorite number is 450, what's the sum of their favorite numbers?\n",
            "A: (1) 450/3=150 # (2) 150+450=600 The answer is 600\n",
            "Q: A group of 300 athletes spent Saturday night at Ultimate Fitness Camp. The next morning, for 4 hours straight, they left the camp at a rate of 28 athletes per hour. Over the next 7 hours, a new group of athletes trickled into the camp at a rate of 15 athletes per hour. Immediately thereafter, the camp gate was shut and everyone went to bed. What is the difference in the total number of athletes in the camp over the two nights?\n",
            "A: (1) 4*28=112 # (2) 300-112=188 # (3) 7*15=105 # (4) 188+105=293 # (5) 300-293=7 The answer is 7\n",
            "Q: Carl is hosting an open house for his new business.  He knows 50 people will show up and hopes that another 40 people will randomly show up.  He’s created 10 extravagant gift bags for the first 10 people who visit his shop.  He’s made average gift bags for 20 people but needs to make enough for everyone who visits to have one.  How many more bags does he need to make?\n",
            "A: (1) 50+40=90 # (2) 10+20=30 # (3) 90-30=60 The answer is 60\n",
            "Q: Juan needs 10 half-gallons of milk to bake 40 cookies with. How many half-gallons of milk does Juan need to bake 200 dozen cookies?\n",
            "A: (1) 200/4=50 The answer is 50\n",
            "Q: A wildlife team is monitoring the number of birds in a park. There are 3 blackbirds in each of the park’s 7 trees. There are also 13 magpies roaming around the park. How many birds are in the park in total?\n",
            "A: (1) 7*3=21 # (2) 21+13=34 The answer is 34\n",
            "Q: Carol and Jennifer are sisters from Los Angeles who love collecting signatures from celebrities. During their summer break from school, the sisters spend every afternoon collecting signatures. After five weeks, Carol and Jennifer compare their autograph books, counting up the number of signatures each sister has collected. Carol has 20 signatures in her book, and Jennifer has 44. The sisters have three more weeks of summer vacation, and they decide they want to reach 100 signatures between them by the end of the summer. How many signatures do the sisters need to collect to reach their goal?\n",
            "A: \n"
          ]
        }
      ]
    },
    {
      "cell_type": "code",
      "source": [
        "preds = cot_inference(loader)"
      ],
      "metadata": {
        "execution": {
          "iopub.status.busy": "2023-02-19T10:53:44.872208Z",
          "iopub.execute_input": "2023-02-19T10:53:44.873486Z",
          "iopub.status.idle": "2023-02-19T10:55:39.664040Z",
          "shell.execute_reply.started": "2023-02-19T10:53:44.873439Z",
          "shell.execute_reply": "2023-02-19T10:55:39.662624Z"
        },
        "trusted": true,
        "id": "9peChjOIfl_R"
      },
      "execution_count": null,
      "outputs": []
    },
    {
      "cell_type": "code",
      "source": [
        "def extract_answer(s):\n",
        "    if 'The answer is' not in s:\n",
        "        return np.nan\n",
        "    s = s.split('The answer is')[-1].strip().split()[-1]\n",
        "    return ''.join(x for x in s if x.isdigit())"
      ],
      "metadata": {
        "trusted": true,
        "id": "I4ssGTHofl_S"
      },
      "execution_count": null,
      "outputs": []
    },
    {
      "cell_type": "code",
      "source": [
        "test['formal_preds'] = preds\n",
        "test['formal_answer'] = preds\n",
        "test['formal_answer'] = test['formal_answer'].apply(extract_answer)"
      ],
      "metadata": {
        "trusted": true,
        "id": "9VhGa5Q_fl_b"
      },
      "execution_count": null,
      "outputs": []
    },
    {
      "cell_type": "code",
      "source": [
        "accuracy_score(test.processed_answer, test.formal_answer.fillna(''))"
      ],
      "metadata": {
        "trusted": true,
        "id": "2J_p6Jjofl_c"
      },
      "execution_count": null,
      "outputs": []
    },
    {
      "cell_type": "markdown",
      "source": [
        "В среднем при таком подходе 20% ошибок, т.е. помимо неправильных ответов в 20% предсказаниях нет поля The answer is, а продолжается цепь мыслей, а точность в таком подходе стремится к 0"
      ],
      "metadata": {
        "id": "Mk3nor0Cco7C"
      }
    },
    {
      "cell_type": "code",
      "source": [
        "def show_true(df, count=1, prefix=''):\n",
        "    samples = df[df['processed_answer'] == df[prefix + '_answer']]\n",
        "    if len(samples) == 0:\n",
        "        return\n",
        "    samples = samples.sample(count)\n",
        "    for ts, fs, pr in zip(samples['text_step'], samples['formal_step'], samples[prefix + '_preds']):\n",
        "        print('-' * 20)\n",
        "        print('true step:')\n",
        "        print(ts)\n",
        "        print(fs)\n",
        "        print()\n",
        "        print('predict step:')\n",
        "        print(pr)\n",
        "        \n",
        "def show_false(df, count=1, prefix=''):\n",
        "    samples = df[df['processed_answer'] != df[prefix + '_answer']]\n",
        "    if len(samples) == 0:\n",
        "        return\n",
        "    samples = samples.sample(count)\n",
        "    for ts, fs, pr in zip(samples['text_step'], samples['formal_step'], samples[prefix + '_preds']):\n",
        "        print('-' * 20)\n",
        "        print('true step:')\n",
        "        print(ts)\n",
        "        print(fs)\n",
        "        print()\n",
        "        print('predict step:')\n",
        "        print(pr)"
      ],
      "metadata": {
        "trusted": true,
        "id": "9Gd9B19Kfl_d"
      },
      "execution_count": null,
      "outputs": []
    },
    {
      "cell_type": "markdown",
      "source": [
        "Основная проблема заключается в зацикливание, например, \"5 + 5 + 5 + 5 + ...\", а параметр no_repeat_ngram_size не решает проблему с бесконечной цепью шагов. Похоже, что модель без пояснений не видит зависимостей"
      ],
      "metadata": {
        "id": "nR4OKVW1dSm_"
      }
    },
    {
      "cell_type": "code",
      "source": [
        "show_true(test, 5, 'formal')\n",
        "show_false(test, 5, 'formal')"
      ],
      "metadata": {
        "trusted": true,
        "id": "aX-ky2Ozfl_d"
      },
      "execution_count": null,
      "outputs": []
    },
    {
      "cell_type": "code",
      "source": [
        "dataset = MathDataset(test, train, use_promt=arxiv_promt)\n",
        "loader = DataLoader(dataset, batch_size=1, shuffle=False)\n",
        "print(dataset[0][0])"
      ],
      "metadata": {
        "id": "kRid4IN07PDw",
        "execution": {
          "iopub.status.busy": "2023-02-19T10:53:39.082311Z",
          "iopub.execute_input": "2023-02-19T10:53:39.083102Z",
          "iopub.status.idle": "2023-02-19T10:53:39.089825Z",
          "shell.execute_reply.started": "2023-02-19T10:53:39.083062Z",
          "shell.execute_reply": "2023-02-19T10:53:39.088588Z"
        },
        "trusted": true,
        "colab": {
          "base_uri": "https://localhost:8080/"
        },
        "outputId": "985f9763-7c5c-4a3b-a472-66c4572c3f4d"
      },
      "execution_count": null,
      "outputs": [
        {
          "output_type": "stream",
          "name": "stdout",
          "text": [
            "Q: There are 15 trees in the grove. Grove workers will plant trees in the grove today. After they are done, there will be 21 trees. How many trees did the grove workers plant today?\n",
            "A: There are 15 trees originally. Then there were 21 trees after some more were planted. So there must have been 21 - 15 = 6. The answer is 6\n",
            "Q: If there are 3 cars in the parking lot and 2 more cars arrive, how many cars are in the parking lot?\n",
            "A: There are originally 3 cars. 2 more cars arrive. 3 + 2 = 5. The answer is 5\n",
            "Q: Leah had 32 chocolates and her sister had 42. If they ate 35, how many pieces do they have left in total?\n",
            "A: Originally, Leah had 32 chocolates. Her sister had 42. So in total they had 32 + 42 = 74. After eating 35, they had 74 - 35 = 39. The answer is 39\n",
            "Q: Jason had 20 lollipops. He gave Denny some lollipops. Now Jason has 12 lollipops. How many lollipops did Jason give to Denny?\n",
            "A: Jason started with 20 lollipops. Then he had 12 after giving some to Denny. So he gave Denny 20 - 12 = 8. The answer is 8\n",
            "Q: Shawn has five toys. For Christmas, he got two toys each from his mom and dad. How many toys does he have now?\n",
            "A: Shawn started with 5 toys. If he got 2 toys each from his mom and dad, then that is 4 more toys. 5 + 4 = 9. The answer is 9\n",
            "Q: There were nine computers in the server room. Five more computers were installed each day, from monday to thursday. How many computers are now in the server room?\n",
            "A: There were originally 9 computers. For each of 4 days, 5 more computers were added. So 5 * 4 = 20 computers were added. 9 + 20 is 29. The answer is 29\n",
            "Q: Michael had 58 golf balls. On tuesday, he lost 23 golf balls. On wednesday, he lost 2 more. How many golf balls did he have at the end of wednesday?\n",
            "A: Michael started with 58 golf balls. After losing 23 on tuesday, he had 58 - 23 = 35. After losing 2 more, he had 35 - 2 = 33 golf balls. The answer is 33\n",
            "Q: Olivia has $23. She bought five bagels for $3 each. How much money does she have left?\n",
            "A: Olivia had 23 dollars. 5 bagels for 3 dollars each will be 5 x 3 = 15 dollars. So she has 23 - 15 dollars left. 23 - 15 is 8. The answer is 8\n",
            "Q: Carol and Jennifer are sisters from Los Angeles who love collecting signatures from celebrities. During their summer break from school, the sisters spend every afternoon collecting signatures. After five weeks, Carol and Jennifer compare their autograph books, counting up the number of signatures each sister has collected. Carol has 20 signatures in her book, and Jennifer has 44. The sisters have three more weeks of summer vacation, and they decide they want to reach 100 signatures between them by the end of the summer. How many signatures do the sisters need to collect to reach their goal?\n",
            "A: \n"
          ]
        }
      ]
    },
    {
      "cell_type": "code",
      "source": [
        "preds = cot_inference(loader)"
      ],
      "metadata": {
        "execution": {
          "iopub.status.busy": "2023-02-19T10:53:39.563022Z",
          "iopub.execute_input": "2023-02-19T10:53:39.563872Z",
          "iopub.status.idle": "2023-02-19T10:53:39.596820Z",
          "shell.execute_reply.started": "2023-02-19T10:53:39.563823Z",
          "shell.execute_reply": "2023-02-19T10:53:39.595248Z"
        },
        "trusted": true,
        "id": "zy4lPTDSfl_f"
      },
      "execution_count": null,
      "outputs": []
    },
    {
      "cell_type": "code",
      "source": [
        "test['arxiv_preds'] = preds\n",
        "test['arxiv_answer'] = preds\n",
        "test['arxiv_answer'] = test['arxiv_answer'].apply(extract_answer)"
      ],
      "metadata": {
        "trusted": true,
        "id": "Y_HPB7iWfl_f"
      },
      "execution_count": null,
      "outputs": []
    },
    {
      "cell_type": "markdown",
      "source": [
        "Результаты близки к тем, что описаны в статье для GPT3 с таким же количеством параметров, похоже, что BLOOM не потерял из-за многоязычности. Пропусков ответа нет, точность около 40-50%"
      ],
      "metadata": {
        "id": "hwHxrdUThLGj"
      }
    },
    {
      "cell_type": "code",
      "source": [
        "accuracy_score(test.processed_answer, test.arxiv_answer.fillna(''))"
      ],
      "metadata": {
        "trusted": true,
        "id": "ga66gglGfl_g"
      },
      "execution_count": null,
      "outputs": []
    },
    {
      "cell_type": "code",
      "source": [
        "show_true(test, 5, 'arxiv')\n",
        "show_false(test, 5, 'arxiv')"
      ],
      "metadata": {
        "trusted": true,
        "id": "5unU2jPcfl_g"
      },
      "execution_count": null,
      "outputs": []
    },
    {
      "cell_type": "markdown",
      "source": [
        "Ответ совпадает с ходом мыслей - нет случайности в ответе, удивительно, что нет кейсов, когда после верных действий модель ошибается, т.е. неправильный ход мыслей и ответ идут с самого начала, будто непонятно условие.\n",
        "\n",
        "Подтвердилась гипотеза, что модель справляется с дробями и прочими частями в среднем хуже, хотя набор действий тот же"
      ],
      "metadata": {
        "id": "_09DyIvdhsVQ"
      }
    },
    {
      "cell_type": "markdown",
      "source": [
        "Идея с формальными шагами провалилась, но хочется все равно подавать разные промты с надеждой угадать, поэтому осталось как в статье подавать текстовое описание, но в train выборке большая часть ответов длиннее максимального из промта авторов, поэтому оставим только короткие для выбора"
      ],
      "metadata": {
        "id": "E3qxfgzmkc7p"
      }
    },
    {
      "cell_type": "code",
      "source": [
        "train['len_text_step'] = train.text_step.apply(lambda x: len(tokenizer.encode(x)))\n",
        "train = train[train.len_text_step < 50].reset_index(drop=True)"
      ],
      "metadata": {
        "trusted": true,
        "id": "l69k-Gl9fl_i"
      },
      "execution_count": null,
      "outputs": []
    },
    {
      "cell_type": "code",
      "source": [
        "dataset = MathDataset(test, train, num_samples=8, step_col='text_step')\n",
        "loader = DataLoader(dataset, batch_size=1, shuffle=False)\n",
        "print(dataset[0][0])"
      ],
      "metadata": {
        "trusted": true,
        "colab": {
          "base_uri": "https://localhost:8080/"
        },
        "id": "sNnTvjgnfl_j",
        "outputId": "68377f6c-c297-4af4-fc7a-afc124089ccf"
      },
      "execution_count": null,
      "outputs": [
        {
          "output_type": "stream",
          "name": "stdout",
          "text": [
            "Q: John scores 2 shots worth 2 points and 1 shot worth 3 points every 4 minutes.  He plays for 2 periods.  Each period is 12 minutes.  How many points does he score?\n",
            "A: He played for 2*12=24 minutes He gets 2*2=4 points per minute from the two-point shots So he scores 4+3=7 points per minute There are 24/4=6 intervals So he scores 7*6=42 points  The answer is 42\n",
            "Q: Mona plays a multiplayer video game on the weekends. She joins groups with four other players to complete objectives in the game. The past weekend, she joined 9 groups. One of the groups included two players she had grouped with before that weekend, and another group included one person she had grouped with before. How many unique players did Mona group with on the video game that weekend?\n",
            "A: Mona joined 9 groups, so she played with 9 * 4 = 36 people. She grouped with 2 + 1 = 3 people twice. Thus, she played with 36 - 3 = 33 unique players that weekend.  The answer is 33\n",
            "Q: Michelle loves sugar. She bought 14 chocolate bars, each of which had 10 grams of sugar. She also bought a giant lollipop, which had an additional 37 grams of sugar, plus 190 calories. How many grams of sugar were in all of the candy she bought?\n",
            "A: The chocolate bars had a total of 14 × 10 = 140 grams of sugar. There was a total of 140 + 37 = 177 grams of sugar in all the candy she bought.  The answer is 177\n",
            "Q: Monika went out for the day and spent some money. She went to the mall and spent $250. Then, she went to the movies and watched 3 movies back to back that each cost $24. Then she stopped by the farmer's market on her way home and got 20 bags of beans at $1.25/bag. How much money did Monika spend throughout her day?\n",
            "A: Monika spent 24*3 = 72 dollars at the movies. Monika spent 20*1.25 = 25 dollars at the farmers market. Throughout her day, Monika spent 250+72+25 = 347 dollars.  The answer is 347\n",
            "Q: A restaurant is offering a fundraiser one day where they donate $2 for every $10  donated by customers. The average customer donates 3 and there are 40 customers that day. How much does the restaurant donate?\n",
            "A: Customer donated a total of $120 because 40 x 3 = 120 They got $10 a total of 12 times because 120 / 10 = 12 They donated $24 because 12 x 2 = 24  The answer is 24\n",
            "Q: Frank bakes two trays of cookies per day, for 6 days. Frank eats one cookie each day to make sure they taste good. Ted comes over on the sixth day and eats 4 cookies. If each tray makes 12 cookies, how many cookies are left when Ted leaves?\n",
            "A: Frank bakes 2 * 12 = 24 cookies per day. Frank bakes a total of 24 * 6 = 144 cookies. Frank eats 1 * 6 = 6 cookies. After Ted leaves, there are 144 - 6 - 4 = 134  The answer is 134\n",
            "Q: Benjamin collects 6 dozen eggs a day. Carla collects 3 times the number of eggs that Benjamin collects.  Trisha collects 4 dozen less than Benjamin.  How many dozen eggs do the three collect total?\n",
            "A: Carla:3(6)=18 dozen eggs Trisha: 6-4=2 dozen eggs Total: 6+18+2=26 dozen eggs  The answer is 26\n",
            "Q: Jar A has 28 marbles. Jar B has 12 more marbles than jar A. Jar C has twice as many marbles as jar B. How many marbles are there altogether?\n",
            "A: Jar B has 28 + 12 = 40 marbles. Jar C has 2 x 40 = 80 marbles. Therefore, there are 28 + 40 + 80 = 148 marbles altogether.  The answer is 148\n",
            "Q: Carol and Jennifer are sisters from Los Angeles who love collecting signatures from celebrities. During their summer break from school, the sisters spend every afternoon collecting signatures. After five weeks, Carol and Jennifer compare their autograph books, counting up the number of signatures each sister has collected. Carol has 20 signatures in her book, and Jennifer has 44. The sisters have three more weeks of summer vacation, and they decide they want to reach 100 signatures between them by the end of the summer. How many signatures do the sisters need to collect to reach their goal?\n",
            "A: \n"
          ]
        }
      ]
    },
    {
      "cell_type": "code",
      "source": [
        "preds = cot_inference(loader)"
      ],
      "metadata": {
        "trusted": true,
        "id": "fXvueQURfl_k"
      },
      "execution_count": null,
      "outputs": []
    },
    {
      "cell_type": "code",
      "source": [
        "test['text_preds'] = preds\n",
        "test['text_answer'] = preds\n",
        "test['text_answer'] = test['text_answer'].apply(extract_answer)"
      ],
      "metadata": {
        "trusted": true,
        "id": "pOClvXKlfl_l"
      },
      "execution_count": null,
      "outputs": []
    },
    {
      "cell_type": "code",
      "source": [
        "accuracy_score(test.processed_answer, test.text_answer.fillna(''))"
      ],
      "metadata": {
        "trusted": true,
        "id": "MJ8YRsuOfl_n"
      },
      "execution_count": null,
      "outputs": []
    },
    {
      "cell_type": "code",
      "source": [
        "show_true(test, 5, 'text')\n",
        "show_false(test, 5, 'text')"
      ],
      "metadata": {
        "trusted": true,
        "id": "yOEyZ33Xfl_u"
      },
      "execution_count": null,
      "outputs": []
    },
    {
      "cell_type": "markdown",
      "source": [
        "Эффект и по метрикам и по ответам около полученного в статье, сложные задачи встречаются реже и рандом не попадает"
      ],
      "metadata": {
        "id": "a1HDNFC6lqab"
      }
    },
    {
      "cell_type": "code",
      "source": [
        "test"
      ],
      "metadata": {
        "trusted": true,
        "id": "S2_KUpbPfl_w"
      },
      "execution_count": null,
      "outputs": []
    },
    {
      "cell_type": "markdown",
      "source": [
        "### Ensemble CoT"
      ],
      "metadata": {
        "id": "jjnemHuYmfB0"
      }
    },
    {
      "cell_type": "code",
      "source": [
        "arxiv_promt = '''Q: There are 15 trees in the grove. Grove workers will plant trees in the grove today. After they are done, there will be 21 trees. How many trees did the grove workers plant today?\n",
        "A: There are 15 trees originally. Then there were 21 trees after some more were planted. So there must have been 21 - 15 = 6. The answer is 6\n",
        "Q: If there are 3 cars in the parking lot and 2 more cars arrive, how many cars are in the parking lot?\n",
        "A: There are originally 3 cars. 2 more cars arrive. 3 + 2 = 5. The answer is 5\n",
        "Q: Leah had 32 chocolates and her sister had 42. If they ate 35, how many pieces do they have left in total?\n",
        "A: Originally, Leah had 32 chocolates. Her sister had 42. So in total they had 32 + 42 = 74. After eating 35, they had 74 - 35 = 39. The answer is 39\n",
        "Q: Jason had 20 lollipops. He gave Denny some lollipops. Now Jason has 12 lollipops. How many lollipops did Jason give to Denny?\n",
        "A: Jason started with 20 lollipops. Then he had 12 after giving some to Denny. So he gave Denny 20 - 12 = 8. The answer is 8\n",
        "Q: Shawn has five toys. For Christmas, he got two toys each from his mom and dad. How many toys does he have now?\n",
        "A: Shawn started with 5 toys. If he got 2 toys each from his mom and dad, then that is 4 more toys. 5 + 4 = 9. The answer is 9\n",
        "Q: There were nine computers in the server room. Five more computers were installed each day, from monday to thursday. How many computers are now in the server room?\n",
        "A: There were originally 9 computers. For each of 4 days, 5 more computers were added. So 5 * 4 = 20 computers were added. 9 + 20 is 29. The answer is 29\n",
        "Q: Michael had 58 golf balls. On tuesday, he lost 23 golf balls. On wednesday, he lost 2 more. How many golf balls did he have at the end of wednesday?\n",
        "A: Michael started with 58 golf balls. After losing 23 on tuesday, he had 58 - 23 = 35. After losing 2 more, he had 35 - 2 = 33 golf balls. The answer is 33\n",
        "Q: Olivia has $23. She bought five bagels for $3 each. How much money does she have left?\n",
        "A: Olivia had 23 dollars. 5 bagels for 3 dollars each will be 5 x 3 = 15 dollars. So she has 23 - 15 dollars left. 23 - 15 is 8. The answer is 8\n",
        "'''"
      ],
      "metadata": {
        "execution": {
          "iopub.status.busy": "2023-02-19T11:04:54.178467Z",
          "iopub.execute_input": "2023-02-19T11:04:54.178863Z",
          "iopub.status.idle": "2023-02-19T11:04:54.186205Z",
          "shell.execute_reply.started": "2023-02-19T11:04:54.178830Z",
          "shell.execute_reply": "2023-02-19T11:04:54.185122Z"
        },
        "trusted": true,
        "id": "w-EJbANtfl_x"
      },
      "execution_count": null,
      "outputs": []
    },
    {
      "cell_type": "markdown",
      "source": [
        "За основу возьмем предыдущий вариант датасета только для статичного промта"
      ],
      "metadata": {
        "id": "ha6PflncmkV_"
      }
    },
    {
      "cell_type": "code",
      "source": [
        "dataset = MathDataset(test, train, use_promt=arxiv_promt)\n",
        "loader = DataLoader(dataset, batch_size=1, shuffle=False)\n",
        "print(dataset[0][0])"
      ],
      "metadata": {
        "execution": {
          "iopub.status.busy": "2023-02-19T11:04:54.458772Z",
          "iopub.execute_input": "2023-02-19T11:04:54.459431Z",
          "iopub.status.idle": "2023-02-19T11:04:54.465600Z",
          "shell.execute_reply.started": "2023-02-19T11:04:54.459393Z",
          "shell.execute_reply": "2023-02-19T11:04:54.464596Z"
        },
        "trusted": true,
        "id": "WkuYY96xfl_0",
        "outputId": "c07c0a90-54f1-4b5f-ea12-f64dd45407e1"
      },
      "execution_count": null,
      "outputs": [
        {
          "name": "stdout",
          "text": "Q: There are 15 trees in the grove. Grove workers will plant trees in the grove today. After they are done, there will be 21 trees. How many trees did the grove workers plant today?\nA: There are 15 trees originally. Then there were 21 trees after some more were planted. So there must have been 21 - 15 = 6. The answer is 6\nQ: If there are 3 cars in the parking lot and 2 more cars arrive, how many cars are in the parking lot?\nA: There are originally 3 cars. 2 more cars arrive. 3 + 2 = 5. The answer is 5\nQ: Leah had 32 chocolates and her sister had 42. If they ate 35, how many pieces do they have left in total?\nA: Originally, Leah had 32 chocolates. Her sister had 42. So in total they had 32 + 42 = 74. After eating 35, they had 74 - 35 = 39. The answer is 39\nQ: Jason had 20 lollipops. He gave Denny some lollipops. Now Jason has 12 lollipops. How many lollipops did Jason give to Denny?\nA: Jason started with 20 lollipops. Then he had 12 after giving some to Denny. So he gave Denny 20 - 12 = 8. The answer is 8\nQ: Shawn has five toys. For Christmas, he got two toys each from his mom and dad. How many toys does he have now?\nA: Shawn started with 5 toys. If he got 2 toys each from his mom and dad, then that is 4 more toys. 5 + 4 = 9. The answer is 9\nQ: There were nine computers in the server room. Five more computers were installed each day, from monday to thursday. How many computers are now in the server room?\nA: There were originally 9 computers. For each of 4 days, 5 more computers were added. So 5 * 4 = 20 computers were added. 9 + 20 is 29. The answer is 29\nQ: Michael had 58 golf balls. On tuesday, he lost 23 golf balls. On wednesday, he lost 2 more. How many golf balls did he have at the end of wednesday?\nA: Michael started with 58 golf balls. After losing 23 on tuesday, he had 58 - 23 = 35. After losing 2 more, he had 35 - 2 = 33 golf balls. The answer is 33\nQ: Olivia has $23. She bought five bagels for $3 each. How much money does she have left?\nA: Olivia had 23 dollars. 5 bagels for 3 dollars each will be 5 x 3 = 15 dollars. So she has 23 - 15 dollars left. 23 - 15 is 8. The answer is 8\nQ: Carol and Jennifer are sisters from Los Angeles who love collecting signatures from celebrities. During their summer break from school, the sisters spend every afternoon collecting signatures. After five weeks, Carol and Jennifer compare their autograph books, counting up the number of signatures each sister has collected. Carol has 20 signatures in her book, and Jennifer has 44. The sisters have three more weeks of summer vacation, and they decide they want to reach 100 signatures between them by the end of the summer. How many signatures do the sisters need to collect to reach their goal?\nA: \n",
          "output_type": "stream"
        }
      ]
    },
    {
      "cell_type": "markdown",
      "source": [
        "В статье авторы меняли temperature, top_k, top_p для генераций, из-за ресурсов количество генераций пришлось взять минимальным, поэтому используем те параметры, что давали максимальную точность на малом количестве сэмплов"
      ],
      "metadata": {
        "id": "Gu7sLqWrmxN5"
      }
    },
    {
      "cell_type": "code",
      "source": [
        "def ensemble_cot_inference(loader):\n",
        "    preds = []\n",
        "    for promt, answer in tqdm(loader):\n",
        "        inputs = tokenizer(promt, return_tensors=\"pt\", padding='longest')[\"input_ids\"].to(device)\n",
        "        outputs = model.generate(inputs,\n",
        "                                 max_new_tokens = 128, \n",
        "                                 eos_token_id=tokenizer.encode('\\n')[0],\n",
        "                                 do_sample=True,\n",
        "                                 top_k=40,\n",
        "                                 temperature=0.5,\n",
        "                                 num_return_sequences=3,\n",
        "                                 num_beams = 3\n",
        "                                )\n",
        "        decoded = tokenizer.batch_decode(outputs, skip_special_tokens=True)\n",
        "        decoded = [[elem[len(p):] for elem in d] for p, d in zip(promt, decoded)]\n",
        "        preds.extend(decoded)\n",
        "    return preds"
      ],
      "metadata": {
        "id": "rPi4Dopsfl_2"
      },
      "execution_count": null,
      "outputs": []
    },
    {
      "cell_type": "code",
      "source": [
        "def majority_answer(variants):\n",
        "    return Counter(map(extract_answer, variants)).most_common()[0][0]"
      ],
      "metadata": {
        "id": "eD-d1pyQuqdC"
      },
      "execution_count": null,
      "outputs": []
    },
    {
      "cell_type": "code",
      "source": [
        "preds = ensemble_cot_inference(loader)"
      ],
      "metadata": {
        "id": "H32ChnqBu3jA"
      },
      "execution_count": null,
      "outputs": []
    },
    {
      "cell_type": "code",
      "source": [
        "test['ensemble_preds'] = preds\n",
        "test['ensemble_answers'] = test['ensemble_preds'].apply(majority_answer)"
      ],
      "metadata": {
        "execution": {
          "iopub.status.busy": "2023-02-17T12:18:04.921870Z",
          "iopub.execute_input": "2023-02-17T12:18:04.922461Z",
          "iopub.status.idle": "2023-02-17T12:18:04.947426Z",
          "shell.execute_reply.started": "2023-02-17T12:18:04.922423Z",
          "shell.execute_reply": "2023-02-17T12:18:04.946467Z"
        },
        "trusted": true,
        "id": "e4OS4Qvyfl_4"
      },
      "execution_count": null,
      "outputs": []
    },
    {
      "cell_type": "markdown",
      "source": [
        "Идея ансамблирования давно показывает результаты лучше, здесь не исключение, точность повысилась на 5-10% (сходится со статьей на результатах с такими параметрами), примечательно, что на нескольких примерах больше голосов было за неправильный ответ, хотя предыдущий метод выдавал правильный, но это скорее обычное явление ансамблирования"
      ],
      "metadata": {
        "id": "uAJipRQ-n1sm"
      }
    },
    {
      "cell_type": "code",
      "source": [
        "accuracy_score(test.processed_answer, test.ensemble_answers)"
      ],
      "metadata": {
        "id": "AQufXMOkdBK4"
      },
      "execution_count": null,
      "outputs": []
    },
    {
      "cell_type": "markdown",
      "source": [
        "### Bonus"
      ],
      "metadata": {
        "id": "MK3YhaQUoel2"
      }
    },
    {
      "cell_type": "markdown",
      "source": [
        "Если рандом не покрывает нужные случаи, а длинный промт неэффективен, можно было бы посмотреть в сторону ансамбля промтов дополнительно к предыдущей идее, тогда количество генераций это кол-во промтов * num_return_sequences, что невозможно при таком размере модели"
      ],
      "metadata": {
        "id": "Y3mB1Sxsp9o2"
      }
    },
    {
      "cell_type": "markdown",
      "source": [
        "Хочется решить две проблемы\n",
        "\n",
        "\n",
        "\n",
        "1.   Сделать алгоритм подбора промта детерминированным\n",
        "2.   Подбирать промт для каждой задачи так, чтобы их решения были близки, соответсвтенно покроем нечастые вопросы про проценты, доли, дроби\n",
        "\n",
        "Идея: хранить для каждого вопроса из train его эмбеддинг и для нового вопроса из test искать n похожих вопросов, чтобы составить из них промт с текстовыми шагами.\n",
        "\n",
        "Вопросы короткие с небольшой смысловой нагрузкой, к тому же нужно получать эмбеддинг быстро из-за и так медленного BLOOM, поэтому выберем лекгий берт, искать будем с помощью Faiss. В итоге метод такой же, как в предыдущих экспериментах, длину промта установили ранее, получили такую же задачу по вычислительной сложности, только промт подбирается не так обще\n",
        "\n"
      ],
      "metadata": {
        "id": "TpzhP0uRr87z"
      }
    },
    {
      "cell_type": "code",
      "source": [
        "encoder = SentenceTransformer('sentence-transformers/all-MiniLM-L6-v2')\n",
        "searcher = faiss.IndexFlatL2(train.embedding.iloc[0].shape[0]) \n",
        "searcher.add(np.array(list(train.embedding)))"
      ],
      "metadata": {
        "id": "K3NzI5BYfl_9"
      },
      "execution_count": null,
      "outputs": []
    },
    {
      "cell_type": "code",
      "source": [
        "class MathDataset(Dataset):\n",
        "    def __init__(self, df, examples, use_promt=None, num_samples=1, step_col=''):\n",
        "        self.df = df\n",
        "        self.examples = examples\n",
        "        self.num_samples = num_samples\n",
        "        self.step_col = step_col\n",
        "        self.use_promt = use_promt\n",
        "\n",
        "    def __len__(self):\n",
        "        return len(self.df)\n",
        "    \n",
        "    def __getitem__(self, idx):\n",
        "        sample = self.df.iloc[idx]\n",
        "        if self.use_promt:\n",
        "            promt = self.use_promt\n",
        "        else:\n",
        "            query = encoder.encode([sample.question])\n",
        "            _, matched_indexes = searcher.search(query, self.num_samples)\n",
        "            example = self.examples.iloc[matched_indexes[0]]\n",
        "            promt = ''\n",
        "            for q, a, s in zip(example.question, example.answer, example[self.step_col]):\n",
        "                if self.step_col:\n",
        "                    promt += 'Q: ' + q + '\\n' + 'A: ' + s + ' The answer is ' + a + '\\n'\n",
        "                else:\n",
        "                    promt += 'Q: ' + q + '\\n' + 'A: The answer is ' + a + '\\n'\n",
        "        \n",
        "        promt += 'Q: ' + sample.question + '\\nA: '\n",
        "        return promt, sample.answer"
      ],
      "metadata": {
        "id": "Y7JxKEzffl_9"
      },
      "execution_count": null,
      "outputs": []
    },
    {
      "cell_type": "code",
      "source": [
        "dataset = MathDataset(test, train, num_samples=8, step_col='text_step')\n",
        "loader = DataLoader(dataset, batch_size=1, shuffle=False)\n",
        "print(dataset[0][0])"
      ],
      "metadata": {
        "colab": {
          "base_uri": "https://localhost:8080/",
          "height": 381,
          "referenced_widgets": [
            "555e856046a046c2be50e5d55003804e",
            "993cf2282f9f4bff977a5b0abe36bdb5",
            "452cbe63497f4cdb9777b7c3e316b462",
            "ef2e3e26774547489db38f742a3dd5b8",
            "916a1962ba504bcbadbd9bf3a84904fc",
            "a85bb4b635a2427781033b7c39f72a02",
            "7f90e9c3ad5b4da986a6adf733b334bc",
            "f02ddf90977b4315b86f592ba3ed8bf9",
            "1988791add24405c96a6e2d3ef8fe645",
            "d2c200de920b4fcbae4b0cfed0f56f97",
            "41b711c3448b4a5fb8cd11100c6b23a4"
          ]
        },
        "id": "1VZPrZM5fl_-",
        "outputId": "6aa23549-13a6-4df5-a265-85a233e0b178"
      },
      "execution_count": null,
      "outputs": [
        {
          "output_type": "display_data",
          "data": {
            "text/plain": [
              "Batches:   0%|          | 0/1 [00:00<?, ?it/s]"
            ],
            "application/vnd.jupyter.widget-view+json": {
              "version_major": 2,
              "version_minor": 0,
              "model_id": "555e856046a046c2be50e5d55003804e"
            }
          },
          "metadata": {}
        },
        {
          "output_type": "stream",
          "name": "stdout",
          "text": [
            "Q: Anne is drawing pictures. She has 12 markers and she notices that each one lasts for about 1.5 drawings. If she has already made 8 drawings, how many more can she make before she runs out of markers?\n",
            "A: She can make 18 drawings in total because 12 x 1.5 = 18 She can make ten more because 18 - 8 = 10  The answer is 10\n",
            "Q: Sara's sister has 4 small notebooks in her closet. Last summer she ordered 6 more notebooks and then lost 2. How many notebooks does Sara's sister have now?\n",
            "A: Sara's sister has 4 + 6 = 10 notebooks. After she loses 2, she will have: 10 - 2 = 8 notebooks.  The answer is 8\n",
            "Q: Madeline has $48 and her brother has half as much. How much do they have together?\n",
            "A: Madeline's brother has $48/2 = $24. Together, they have $48 + $24 = $72.  The answer is 72\n",
            "Q: Jennifer will be 30 years old in ten years. At that time, her sister Jordana will be three times as old Jennifer. How old is Jennifer's sister now?\n",
            "A: When Jennifer is 30 years old in ten years, her sister Jordana will be 3*30=90 years old. She's currently 10 years younger, so she's 90 - 10 = 80 years old  The answer is 80\n",
            "Q: Kylie has 34 stamps in her collection. Her friend, Nelly, has 44 more stamps than Kylie. How many stamps do Kylie and Nelly have together?\n",
            "A: Nelly has 34 + 44 = 78 stamps. Thus, Kylie and Nelly have 34 + 78 = 112 stamps.  The answer is 112\n",
            "Q: Teresa is collecting pencils. She has 14 colored pencils and 35 black pencils. Her three younger siblings need pencils for class and their dad asks her to share all her pencils, giving each an equal number of pencils, regardless of color. He tells her she can keep 10 of them for herself. How many pencils does each sibling get?\n",
            "A: Teresa has 49 pencils because 14 + 35 = 49 Teresa gives away 39 pencils because 49 - 10 = 39 Each sibling gets 13 pencils because 39 / 3 = 13  The answer is 13\n",
            "Q: At the bookstore, Sarah bought 6 paperback books and 4 hardback books. Her brother bought one-third as many paperback books as Sarah bought, and two times the number of hardback books that she bought. How many books did her brother buy in total?\n",
            "A: Her brother bought 6/3=2 paperbacks He bought 4*2=8 hardbacks In total he bought 2+8=10 books  The answer is 10\n",
            "Q: Karl, Ryan, and Ben are fond of collecting stickers. Karl has 25 stickers. Ryan has 20 more stickers than Karl. Ben has 10 fewer stickers than Ryan. They placed all their stickers in one sticker book. How many stickers did they place altogether?\n",
            "A: Ryan has 25 + 20 = 45 stickers. Ben has 45 - 10 = 35 stickers. Therefore, there are a total of 25 + 45 + 35 = 105 stickers placed all together in a sticker book.  The answer is 105\n",
            "Q: Carol and Jennifer are sisters from Los Angeles who love collecting signatures from celebrities. During their summer break from school, the sisters spend every afternoon collecting signatures. After five weeks, Carol and Jennifer compare their autograph books, counting up the number of signatures each sister has collected. Carol has 20 signatures in her book, and Jennifer has 44. The sisters have three more weeks of summer vacation, and they decide they want to reach 100 signatures between them by the end of the summer. How many signatures do the sisters need to collect to reach their goal?\n",
            "A: \n"
          ]
        }
      ]
    },
    {
      "cell_type": "code",
      "source": [
        "preds = ensemble_cot_inference(loader)"
      ],
      "metadata": {
        "id": "ONo93Snpq1px"
      },
      "execution_count": null,
      "outputs": []
    },
    {
      "cell_type": "code",
      "source": [
        "test['faiss_preds'] = preds\n",
        "test['faiss_answers'] = test['faiss_preds'].apply(majority_answer)"
      ],
      "metadata": {
        "id": "AFw8Vg0evVvB"
      },
      "execution_count": null,
      "outputs": []
    },
    {
      "cell_type": "code",
      "source": [
        "accuracy_score(test.processed_answer, test.faiss_answers)"
      ],
      "metadata": {
        "id": "ZP3xH-A2vjJQ"
      },
      "execution_count": null,
      "outputs": []
    },
    {
      "cell_type": "markdown",
      "source": [
        "BLOOM больше не поднимался, поэтому не получилось протестировать, но даже статистически точность не должна ухудшиться с предыдущим методом"
      ],
      "metadata": {
        "id": "dHRTq6V2vqf7"
      }
    },
    {
      "cell_type": "code",
      "source": [],
      "metadata": {
        "id": "OhQfoxv5v4S7"
      },
      "execution_count": null,
      "outputs": []
    }
  ]
}